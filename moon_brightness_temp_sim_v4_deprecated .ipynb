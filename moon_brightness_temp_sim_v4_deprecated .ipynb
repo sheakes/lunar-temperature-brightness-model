{
 "cells": [
  {
   "cell_type": "code",
   "execution_count": 1,
   "id": "07a0a693-3d92-46d4-85ba-eecfa73cebf3",
   "metadata": {},
   "outputs": [],
   "source": [
    "import numpy as np"
   ]
  },
  {
   "cell_type": "code",
   "execution_count": 2,
   "id": "b126b121-b11f-4153-847c-46284b393f67",
   "metadata": {},
   "outputs": [],
   "source": [
    "# Function to calculate facet area given latitude and longitude\n",
    "\n",
    "def calculate_area_of_facets(lat_res, lon_res, lunar_radius=1737400):\n",
    "    \"\"\"\n",
    "    Calculates the area of lunar facets given the resolution.\n",
    "\n",
    "    Parameters:\n",
    "    - lat_res: latitude resolution in degrees\n",
    "    - lon_res: longitude resolution in degrees\n",
    "    - lunar_radius: radius of the Moon (default: 1737400 m)\n",
    "\n",
    "    Returns:\n",
    "    - area_of_facets: 2D numpy array with facet areas (m²)\n",
    "    \"\"\"\n",
    "    lat_edges = np.radians(np.arange(0, 90+lat_res, lat_res))\n",
    "    lon_edges = np.radians(np.arange(-180, 180 + lon_res, lon_res))\n",
    "    area_of_facets = np.zeros((len(lon_edges)-1, len(lat_edges)-1))\n",
    "\n",
    "    for i in range(len(lon_edges)-1):\n",
    "        for j in range(len(lat_edges)-1):\n",
    "            area_of_facets[i, j] = lunar_radius**2 * abs(\n",
    "                np.sin(lat_edges[j+1]) - np.sin(lat_edges[j])\n",
    "            ) * abs(lon_edges[i+1] - lon_edges[i])\n",
    "\n",
    "\n",
    "    return area_of_facets"
   ]
  },
  {
   "cell_type": "code",
   "execution_count": 3,
   "id": "a16c9fbd-f332-4d8e-8fc9-808c4d74de59",
   "metadata": {},
   "outputs": [],
   "source": [
    "def calculate_zenith_angle_array(lat_res, lon_res):\n",
    "    \"\"\"\n",
    "    Vectorized calculation of the zenith angle on each facet of lat, lon.\n",
    "    - Parameters: \n",
    "        - Latitude: a numpy array of latitudes\n",
    "        - Longutide: a numpy array of longitudes\n",
    "        - Declination (float): a fixed value for declination\n",
    "    - Returns: Outputs a 3D array of zenith angles with shape (360, 91)\n",
    "    \"\"\"\n",
    "    latitude_edges = np.radians(np.arange(0, 90 + lat_res, lat_res))\n",
    "    longitude_edges = np.radians(np.arange(-180, 180 + lon_res, lon_res))\n",
    "    declination = 90\n",
    "\n",
    "\n",
    "    # Convert angles from degrees to radians for numpy trigonometric functions\n",
    "    # phase_rad = np.radians(phase)[:, np.newaxis, np.newaxis]  # shape (360, 1, 1)\n",
    "    longitude_rad = np.radians(longitude_edges)[:, np.newaxis]  # shape (1, 360, 1)\n",
    "    latitude_rad = np.radians(latitude_edges)[np.newaxis, :]  # shape (1, 1, 91)\n",
    "    declination_rad = np.radians(declination)\n",
    "\n",
    "    # Calculate the zenith angle for all combinations of phase, lon, and lat\n",
    "    zenith_angle_array = np.arccos(\n",
    "        np.sin(declination_rad) * np.sin(latitude_rad)\n",
    "        + np.cos(declination_rad) * np.cos(latitude_rad)\n",
    "        * np.cos(longitude_rad)\n",
    "    )\n",
    "\n",
    "    return zenith_angle_array"
   ]
  },
  {
   "cell_type": "code",
   "execution_count": 4,
   "id": "20670ec3-62cc-4d3f-83ae-8a2510e5f039",
   "metadata": {},
   "outputs": [],
   "source": [
    "def flux_input_func(W_0, zenith_angle_array, albedo):\n",
    "    \"\"\"\n",
    "    Calculate the solar flux input to lunar surface.\n",
    "\n",
    "    Parameters:\n",
    "    - W_0 (float): Solar irradiance (W/m²).\n",
    "    - zenith_angle_array (array): Solar zenith angles in radians.\n",
    "    - albedo (float): Surface reflectivity (unitless).\n",
    "\n",
    "    Returns:\n",
    "    - array: Solar flux input per facet (W/m²).\n",
    "    \"\"\"\n",
    "    W_t = W_0 * np.cos(zenith_angle_array) * (1 - albedo)\n",
    "    return W_t[:-1,:-1]"
   ]
  },
  {
   "cell_type": "code",
   "execution_count": 5,
   "id": "4bcb6e17-ba8e-44ab-80a9-e49e26a948de",
   "metadata": {},
   "outputs": [],
   "source": [
    "def thermal_capacitance(BasCap, area_of_facets, tau, rho):\n",
    "    \"\"\"\n",
    "    Calculate thermal capacitance per regolith layer.\n",
    "\n",
    "    Parameters:\n",
    "    - BasCap (float): Specific heat capacity of regolith (J/kg·K).\n",
    "    - area_of_facets (float or array): Area of each facet (m²).\n",
    "    - tau (float): Thickness of each regolith layer (m).\n",
    "    - rho (float): Density of lunar regolith (kg/m³).\n",
    "\n",
    "    Returns:\n",
    "    - float or array: Thermal capacitance per layer (J/K).\n",
    "    \"\"\"\n",
    "    return BasCap * rho * area_of_facets * tau"
   ]
  },
  {
   "cell_type": "code",
   "execution_count": 6,
   "id": "bec60242-f76e-4845-8e1e-e894f955e6d3",
   "metadata": {},
   "outputs": [],
   "source": [
    "def rate_of_change_intermediate(T_np1, T_n, T_nm1, BasCond, tau):\n",
    "    \"\"\"\n",
    "    Calculate the rate of energy change for intermediate layers.\n",
    "\n",
    "    Parameters:\n",
    "    - T_np1 (array): Temperature of the layer below current (K).\n",
    "    - T_n (array): Temperature of current layer (K).\n",
    "    - T_nm1 (array): Temperature of the layer above current (K).\n",
    "    - BasCond (float): Thermal conductivity of regolith (W/m·K).\n",
    "    - tau (float): Thickness of each layer (m).\n",
    "\n",
    "    Returns:\n",
    "    - array: Rate of thermal energy change (W/m²).\n",
    "    \"\"\"\n",
    "    return BasCond * (T_np1 - 2 * T_n + T_nm1) / tau**2"
   ]
  },
  {
   "cell_type": "code",
   "execution_count": 7,
   "id": "a2dbc9d2-a9d2-4e3f-9093-b89860c5a965",
   "metadata": {},
   "outputs": [],
   "source": [
    "def heat_transfer_model(heat_transfer_array, W_0, zenith_angle_array, albedo, sigma,\n",
    "                        BasCond, rho, BasCap, area_of_facets, tau, delta_t, model_run_time, T_const):\n",
    "    \"\"\"\n",
    "    Perform the lunar regolith heat transfer simulation.\n",
    "\n",
    "    Parameters:\n",
    "    - heat_transfer_array (array): 3D array of initial temperatures [lon, lat, depth] (K).\n",
    "    - W_0 (float): Solar irradiance (W/m²).\n",
    "    - zenith_angle_array (array): Array of solar zenith angles per facet (radians).\n",
    "    - albedo (float): Lunar surface albedo (unitless, 0-1).\n",
    "    - sigma (float): Stefan-Boltzmann constant (W/m²·K⁴).\n",
    "    - BasCond (float): Thermal conductivity (W/m·K).\n",
    "    - rho (float): Regolith density (kg/m³).\n",
    "    - BasCap (float): Specific heat capacity (J/kg·K).\n",
    "    - area_of_facets (float or array): Area of each facet (m²).\n",
    "    - tau (float): Thickness of each soil layer (m).\n",
    "    - delta_t (float): Time-step duration for model (s).\n",
    "    - model_run_time (float): Total simulation time (s).\n",
    "    - T_const (float): Constant temperature at deepest layer boundary (K).\n",
    "\n",
    "    Returns:\n",
    "    - array: Updated heat_transfer_array after simulation (K).\n",
    "    \"\"\"\n",
    "\n",
    "    gamma = thermal_capacitance(BasCap, area_of_facets, tau, rho)\n",
    "    num_steps = int(model_run_time / delta_t)\n",
    "\n",
    "    for step in range(num_steps):\n",
    "        # Surface Layer update\n",
    "        T_0 = heat_transfer_array[:, :, 0]\n",
    "        T_1 = heat_transfer_array[:, :, 1]\n",
    "\n",
    "        W_t = flux_input_func(W_0, zenith_angle_array, albedo)\n",
    "\n",
    "        radiative_loss = sigma * T_0**4\n",
    "        conductive_flux_surface = BasCond * (T_1 - T_0) / tau\n",
    "        dQ0_dt = (W_t - radiative_loss - conductive_flux_surface) * area_of_facets\n",
    "\n",
    "        T_0_new = T_0 + (dQ0_dt * delta_t / gamma)\n",
    "\n",
    "        # Intermediate layers update\n",
    "        T_n = heat_transfer_array[:, :, 1:-1]\n",
    "        T_np1 = heat_transfer_array[:, :, 2:]\n",
    "        T_nm1 = heat_transfer_array[:, :, :-2]\n",
    "\n",
    "        dQn_dt = rate_of_change_intermediate(T_np1, T_n, T_nm1, BasCond, tau) * area_of_facets[:, :, np.newaxis]\n",
    "        T_n_new = T_n + (dQn_dt * delta_t / gamma[:, :, np.newaxis])\n",
    "\n",
    "        # Bottom layer boundary condition\n",
    "        T_f_new = np.full_like(heat_transfer_array[:, :, -1], T_const)\n",
    "\n",
    "        # Update temperature array\n",
    "        heat_transfer_array[:, :, 0] = T_0_new\n",
    "        heat_transfer_array[:, :, 1:-1] = T_n_new\n",
    "        heat_transfer_array[:, :, -1] = T_f_new\n",
    "\n",
    "    return heat_transfer_array\n"
   ]
  },
  {
   "cell_type": "code",
   "execution_count": 8,
   "id": "215bf6f4-9d3a-4ac7-b129-f925a9cae96e",
   "metadata": {},
   "outputs": [],
   "source": [
    "\n",
    "# Define physical constants and parameters\n",
    "lunar_radius=1737400     # Lunar Radius (m)\n",
    "sigma = 5.67e-8          # Stefan-Boltzmann constant (W/m²·K⁴)\n",
    "W_0 = 1365.0             # Solar irradiance (W/m²)\n",
    "albedo = 0.15            # Lunar surface albedo (unitless)\n",
    "BasCond = 0.0093         # Basalt thermal conductivity (W/m·K)\n",
    "rho = 1500               # Lunar regolith density (kg/m³)\n",
    "BasCap = 670.0           # Basalt specific heat capacity (J/kg·K)\n",
    "tau = 0.01               # Thickness of each soil layer (m)\n",
    "delta_t = 60             # Time-step duration for model (s)\n",
    "model_run_time = 60    # Total simulation time (s)\n",
    "T_const = 250            # Constant boundary temperature (K)\n",
    "lat_res = 1\n",
    "lon_res = 1"
   ]
  },
  {
   "cell_type": "code",
   "execution_count": 9,
   "id": "44ecbb67-8af4-4976-9160-8dda01300b52",
   "metadata": {},
   "outputs": [],
   "source": [
    "heat_transfer_array = np.full((360, 90, 100), T_const).astype(np.float64)\n",
    "\n",
    "zenith_angle_array = calculate_zenith_angle_array(lat_res, lon_res)\n",
    "area_of_facets = calculate_area_of_facets(lat_res, lon_res, lunar_radius=1737400)"
   ]
  },
  {
   "cell_type": "code",
   "execution_count": 10,
   "id": "6437425a-bf36-4138-889b-c280555b7402",
   "metadata": {},
   "outputs": [],
   "source": [
    "\n",
    "heat_transfer_model = heat_transfer_model(heat_transfer_array, W_0, zenith_angle_array, albedo, sigma, BasCond, rho, BasCap, area_of_facets, tau, delta_t, model_run_time, T_const)"
   ]
  },
  {
   "cell_type": "code",
   "execution_count": 11,
   "id": "ed024664-dbfb-4fd0-b863-ceab537de275",
   "metadata": {},
   "outputs": [
    {
     "data": {
      "text/plain": [
       "(360, 90, 100)"
      ]
     },
     "execution_count": 11,
     "metadata": {},
     "output_type": "execute_result"
    }
   ],
   "source": [
    "heat_transfer_model.shape"
   ]
  },
  {
   "cell_type": "code",
   "execution_count": 13,
   "id": "74a61bdd-ff6a-4b14-952d-ad82ba6f844d",
   "metadata": {},
   "outputs": [
    {
     "data": {
      "text/plain": [
       "array([248.67770522, 250.        , 250.        , 250.        ,\n",
       "       250.        , 250.        , 250.        , 250.        ,\n",
       "       250.        , 250.        , 250.        , 250.        ,\n",
       "       250.        , 250.        , 250.        , 250.        ,\n",
       "       250.        , 250.        , 250.        , 250.        ,\n",
       "       250.        , 250.        , 250.        , 250.        ,\n",
       "       250.        , 250.        , 250.        , 250.        ,\n",
       "       250.        , 250.        , 250.        , 250.        ,\n",
       "       250.        , 250.        , 250.        , 250.        ,\n",
       "       250.        , 250.        , 250.        , 250.        ,\n",
       "       250.        , 250.        , 250.        , 250.        ,\n",
       "       250.        , 250.        , 250.        , 250.        ,\n",
       "       250.        , 250.        , 250.        , 250.        ,\n",
       "       250.        , 250.        , 250.        , 250.        ,\n",
       "       250.        , 250.        , 250.        , 250.        ,\n",
       "       250.        , 250.        , 250.        , 250.        ,\n",
       "       250.        , 250.        , 250.        , 250.        ,\n",
       "       250.        , 250.        , 250.        , 250.        ,\n",
       "       250.        , 250.        , 250.        , 250.        ,\n",
       "       250.        , 250.        , 250.        , 250.        ,\n",
       "       250.        , 250.        , 250.        , 250.        ,\n",
       "       250.        , 250.        , 250.        , 250.        ,\n",
       "       250.        , 250.        , 250.        , 250.        ,\n",
       "       250.        , 250.        , 250.        , 250.        ,\n",
       "       250.        , 250.        , 250.        , 250.        ])"
      ]
     },
     "execution_count": 13,
     "metadata": {},
     "output_type": "execute_result"
    }
   ],
   "source": [
    "heat_transfer_model[180,0]"
   ]
  },
  {
   "cell_type": "code",
   "execution_count": null,
   "id": "35b78e1c-35a1-4c72-bd29-54784ca8d755",
   "metadata": {},
   "outputs": [],
   "source": []
  }
 ],
 "metadata": {
  "kernelspec": {
   "display_name": "Python 3 (ipykernel)",
   "language": "python",
   "name": "python3"
  },
  "language_info": {
   "codemirror_mode": {
    "name": "ipython",
    "version": 3
   },
   "file_extension": ".py",
   "mimetype": "text/x-python",
   "name": "python",
   "nbconvert_exporter": "python",
   "pygments_lexer": "ipython3",
   "version": "3.12.9"
  }
 },
 "nbformat": 4,
 "nbformat_minor": 5
}
