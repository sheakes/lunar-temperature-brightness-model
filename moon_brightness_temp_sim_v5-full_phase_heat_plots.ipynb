{
 "cells": [
  {
   "cell_type": "markdown",
   "id": "9cdb7fc2-9efa-4148-9827-a7bdda9287ec",
   "metadata": {
    "editable": true,
    "slideshow": {
     "slide_type": ""
    },
    "tags": []
   },
   "source": [
    "# Average Lunar Flux Brightness Simulation"
   ]
  },
  {
   "cell_type": "code",
   "execution_count": 1,
   "id": "bd44c3d2-8f58-415e-8752-187a71c8fd80",
   "metadata": {
    "editable": true,
    "slideshow": {
     "slide_type": ""
    },
    "tags": []
   },
   "outputs": [],
   "source": [
    "# import various packages\n",
    "import numpy as np\n",
    "# import pandas as pd\n",
    "# from tqdm import tqdm\n",
    "# # import cupy as cp\n",
    "\n",
    "import matplotlib.pyplot as plt\n",
    "from mpl_toolkits.mplot3d import Axes3D\n",
    "import matplotlib.cm as cm\n",
    "import matplotlib.colors as colors"
   ]
  },
  {
   "cell_type": "markdown",
   "id": "732da333-75fe-4344-a383-2cff0c1152ae",
   "metadata": {},
   "source": [
    "## Inititalize Facet Regions"
   ]
  },
  {
   "cell_type": "markdown",
   "id": "fe0c7a23-dc02-421b-8526-36c5987e7735",
   "metadata": {},
   "source": [
    "Let's split up the moon into facets along lines of latitude and longitude "
   ]
  },
  {
   "cell_type": "markdown",
   "id": "3f5d2885-149e-463c-9d3d-7a647dcf3798",
   "metadata": {},
   "source": [
    "Only necessary to structure the latitude from 0 to 90 degrees because of the symmetry of the northern/southern hemispheres, will need to multiply the average flux density by 2 at the end of the simulation"
   ]
  },
  {
   "cell_type": "code",
   "execution_count": null,
   "id": "5a468dd8-782d-4945-b0e8-340e1b192f08",
   "metadata": {},
   "outputs": [],
   "source": []
  },
  {
   "cell_type": "markdown",
   "id": "299d443e-cd59-4887-a582-00255a4e3daa",
   "metadata": {},
   "source": [
    "## Measure Facets Areas"
   ]
  },
  {
   "cell_type": "code",
   "execution_count": 2,
   "id": "ac5eb207-b21d-4d19-9b82-ef794e983109",
   "metadata": {},
   "outputs": [],
   "source": [
    "def lunar_facets_areas(moon_radius):\n",
    "    \"\"\"\n",
    "    Generation of facet areas over the surface of the Moon using latitude and longitude arrays.\n",
    "    \n",
    "    - Parameters:\n",
    "        - moon_radius: Radius of the Moon in meters.\n",
    "    \n",
    "    - Returns: facet_areas: 2D array of facet areas (m²) corresponding to each latitude and longitude grid cell.\n",
    "    \"\"\"\n",
    "    # Define ranges for phase, longitude, latitude, and declination\n",
    "    # phase_array = np.arange(0, 360, dtype = np.int16) # angular positions of the sun overhead w.r.t latitude = 0, longitude = 0 position\n",
    "    longitude_array= np.arange(-180, 181)#, dtype = np.int16)  # setting longitude range in degrees\n",
    "    latitude_array = np.arange(-90, 91)#, dtype = np.int16)  # setting latitude range in degrees, (0,90 exclusive) I'm considering the centre point of each facet\n",
    "    \n",
    "    # Convert latitude and longitude arrays from degrees to radians\n",
    "    latitudes = np.radians(latitude_array)\n",
    "    longitudes = np.radians(longitude_array)\n",
    " \n",
    "    # Compute the areas of the facets\n",
    "    facet_areas = (moon_radius**2) * np.abs(-1* np.sin(latitudes[np.newaxis, 1:]) + np.sin(latitudes[np.newaxis, :-1])) * (longitudes[1:, np.newaxis] - longitudes[:-1, np.newaxis])\n",
    "    \n",
    "    return facet_areas"
   ]
  },
  {
   "cell_type": "markdown",
   "id": "fe99758a-9fb1-4141-9719-8dfddb8a4ef4",
   "metadata": {},
   "source": [
    "### Test of generate_moon_facets_areas\n",
    "If the radius is 1 the sum of all facet areas should be 2pi for a hemisphere"
   ]
  },
  {
   "cell_type": "code",
   "execution_count": 3,
   "id": "c09d5b4c-4663-47b6-b1f8-85bc38a62f72",
   "metadata": {},
   "outputs": [
    {
     "name": "stdout",
     "output_type": "stream",
     "text": [
      "shape =  (360, 180) area of surface =  12.566370614359172 , Difference: 4pi - area_of_facets =  0.0\n"
     ]
    }
   ],
   "source": [
    "moon_radius_test = 1  # Radius of the Moon in meters\n",
    "area_of_facets_test = lunar_facets_areas(moon_radius_test)\n",
    "print('shape = ', area_of_facets_test.shape, 'area of surface = ' , np.sum(area_of_facets_test), ', Difference: 4pi - area_of_facets = ', 4 * np.pi - np.sum(area_of_facets_test))"
   ]
  },
  {
   "cell_type": "code",
   "execution_count": 4,
   "id": "7f113ae8-7982-4efb-9a39-6cbc7c528fd9",
   "metadata": {},
   "outputs": [
    {
     "data": {
      "text/plain": [
       "(360, 180)"
      ]
     },
     "execution_count": 4,
     "metadata": {},
     "output_type": "execute_result"
    }
   ],
   "source": [
    "area_of_facets_test.shape"
   ]
  },
  {
   "cell_type": "markdown",
   "id": "3ae12729-64d7-458e-bdcf-beba5904a032",
   "metadata": {},
   "source": [
    "### Implement the funciton with the radius of the Moon in meters"
   ]
  },
  {
   "cell_type": "code",
   "execution_count": 5,
   "id": "5d890a18-cba2-4bf6-aba3-8ba6d8b94f4d",
   "metadata": {},
   "outputs": [],
   "source": [
    "moon_radius = 1.737e6  # Radius of the Moon in meters\n",
    "area_of_facets = lunar_facets_areas(moon_radius)"
   ]
  },
  {
   "cell_type": "code",
   "execution_count": 6,
   "id": "46473022-790c-489c-9131-e2293624564e",
   "metadata": {},
   "outputs": [],
   "source": [
    "# np.abs(2*np.pi*moon_radius**2 - np.sum(area_of_facets)), np.sqrt(np.abs(2*np.pi*moon_radius**2 - np.sum(area_of_facets)))"
   ]
  },
  {
   "cell_type": "markdown",
   "id": "6ac264ad-6b77-4897-af4f-29bbccc567cb",
   "metadata": {},
   "source": [
    "The area is off by a bit, how much? a grid approximately 257 m * 257 m in area, I think thats acceptable."
   ]
  },
  {
   "cell_type": "markdown",
   "id": "ebad241b-35b9-4706-84e6-611cc6bc33fb",
   "metadata": {},
   "source": [
    "## Solar Zenith Angle for Phase cycle"
   ]
  },
  {
   "cell_type": "code",
   "execution_count": 7,
   "id": "2d0e393f-5deb-4c01-ae3f-24aac0fd85e1",
   "metadata": {},
   "outputs": [],
   "source": [
    "def calculate_zenith_angle(phase):\n",
    "    \"\"\"\n",
    "    Vectorized calculation of the zenith angle on each facet of lat, lon.\n",
    "    - Parameters: \n",
    "        - phase: the current state of the lunar plase\n",
    "    - Returns: Outputs a 3D array of zenith angles with shape (360, 360, 91)\n",
    "    \"\"\"\n",
    "    deg_res = 0.5 # degree resolution, so that we are calculating the centre of the facets rather than zenith angles along edges\n",
    "    longitude_edges = np.arange(-180 + deg_res, 180, 1)# setting longitude range in degrees\n",
    "    latitude_edges = np.arange(-90 + deg_res, 90, 1)\n",
    "    declination = 0\n",
    "    # setting latitude range in degrees, (0,90 exclusive) I'm considering the centre point of each facet\n",
    "    \n",
    "    # Convert angles from degrees to radians for numpy trigonometric functions\n",
    "    # phase_rad = np.radians(phase)[:, np.newaxis, np.newaxis]  # shape (360, 1, 1)\n",
    "    phase_rad = np.radians(phase)\n",
    "\n",
    "    longitude_rad = np.radians(longitude_edges)[:, np.newaxis]  # shape (1, 360, 1)\n",
    "    latitude_rad = np.radians(latitude_edges)[np.newaxis, :]  # shape (1, 1, 91)\n",
    "    declination_rad = np.radians(declination)\n",
    "\n",
    "    # Calculate the zenith angle for all combinations of phase, lon, and lat\n",
    "    zenith_angle_array = np.arccos(\n",
    "        np.sin(declination_rad) * np.sin(latitude_rad)\n",
    "        + np.cos(declination_rad) * np.cos(latitude_rad)\n",
    "        * np.cos(longitude_rad - phase_rad)\n",
    "    )\n",
    "\n",
    "    return zenith_angle_array"
   ]
  },
  {
   "cell_type": "code",
   "execution_count": 8,
   "id": "0d325566-c62c-48fc-a913-5c325e454b32",
   "metadata": {
    "tags": []
   },
   "outputs": [
    {
     "name": "stdout",
     "output_type": "stream",
     "text": [
      "(360, 180)\n"
     ]
    }
   ],
   "source": [
    "# # Call the function\n",
    "zenith_angle_array_test = calculate_zenith_angle(0)\n",
    "\n",
    "# # check the shape\n",
    "print(zenith_angle_array_test.shape)"
   ]
  },
  {
   "cell_type": "markdown",
   "id": "96904bf8-c655-4c29-8434-51b26a0e7350",
   "metadata": {
    "tags": []
   },
   "source": [
    "#### zenith_angle sanity checks"
   ]
  },
  {
   "cell_type": "code",
   "execution_count": 9,
   "id": "67560c9b-7d3c-4ad3-8ce7-17c83b8b6413",
   "metadata": {
    "scrolled": true
   },
   "outputs": [
    {
     "data": {
      "text/plain": [
       "array([89.50001904, 88.50005713, 87.50009525, 86.50013344, 85.5001717 ,\n",
       "       84.50021007, 83.50024857, 82.50028722, 81.50032605, 80.50036508,\n",
       "       79.50040434, 78.50044386, 77.50048366, 76.50052377, 75.50056421,\n",
       "       74.50060502, 73.50064623, 72.50068787, 71.50072997, 70.50077256,\n",
       "       69.50081568, 68.50085937, 67.50090367, 66.5009486 , 65.50099423,\n",
       "       64.50104059, 63.50108772, 62.50113569, 61.50118453, 60.50123431,\n",
       "       59.50128508, 58.50133691, 57.50138985, 56.50144399, 55.50149939,\n",
       "       54.50155614, 53.50161432, 52.50167402, 51.50173534, 50.50179839,\n",
       "       49.50186328, 48.50193013, 47.50199908, 46.50207027, 45.50214386,\n",
       "       44.50222002, 43.50229893, 42.5023808 , 41.50246584, 40.50255431,\n",
       "       39.50264648, 38.50274262, 37.50284309, 36.50294823, 35.50305844,\n",
       "       34.50317419, 33.50329597, 32.50342434, 31.50355995, 30.5037035 ,\n",
       "       29.50385582, 28.50401784, 27.50419061, 26.50437537, 25.50457354,\n",
       "       24.50478675, 23.50501694, 22.50526638, 21.50553776, 20.50583429,\n",
       "       19.50615985, 18.50651915, 17.50691798, 16.50736352, 15.50786482,\n",
       "       14.50843341, 13.50908422, 12.50983697, 11.51071821, 10.5117646 ,\n",
       "        9.51302816,  8.51458532,  7.5165531 ,  6.51912008,  5.52261094,\n",
       "        4.52763578,  3.53548992,  2.54947864,  1.58112077,  0.70710229,\n",
       "        0.70710229,  1.58112077,  2.54947864,  3.53548992,  4.52763578,\n",
       "        5.52261094,  6.51912008,  7.5165531 ,  8.51458532,  9.51302816,\n",
       "       10.5117646 , 11.51071821, 12.50983697, 13.50908422, 14.50843341,\n",
       "       15.50786482, 16.50736352, 17.50691798, 18.50651915, 19.50615985,\n",
       "       20.50583429, 21.50553776, 22.50526638, 23.50501694, 24.50478675,\n",
       "       25.50457354, 26.50437537, 27.50419061, 28.50401784, 29.50385582,\n",
       "       30.5037035 , 31.50355995, 32.50342434, 33.50329597, 34.50317419,\n",
       "       35.50305844, 36.50294823, 37.50284309, 38.50274262, 39.50264648,\n",
       "       40.50255431, 41.50246584, 42.5023808 , 43.50229893, 44.50222002,\n",
       "       45.50214386, 46.50207027, 47.50199908, 48.50193013, 49.50186328,\n",
       "       50.50179839, 51.50173534, 52.50167402, 53.50161432, 54.50155614,\n",
       "       55.50149939, 56.50144399, 57.50138985, 58.50133691, 59.50128508,\n",
       "       60.50123431, 61.50118453, 62.50113569, 63.50108772, 64.50104059,\n",
       "       65.50099423, 66.5009486 , 67.50090367, 68.50085937, 69.50081568,\n",
       "       70.50077256, 71.50072997, 72.50068787, 73.50064623, 74.50060502,\n",
       "       75.50056421, 76.50052377, 77.50048366, 78.50044386, 79.50040434,\n",
       "       80.50036508, 81.50032605, 82.50028722, 83.50024857, 84.50021007,\n",
       "       85.5001717 , 86.50013344, 87.50009525, 88.50005713, 89.50001904])"
      ]
     },
     "execution_count": 9,
     "metadata": {},
     "output_type": "execute_result"
    }
   ],
   "source": [
    "np.degrees(zenith_angle_array_test[180,:]) \n",
    "# sanity check for what the latitude angles would look like for a sub solar position at theta = 0, longitude, = 0, and phase = 0"
   ]
  },
  {
   "cell_type": "code",
   "execution_count": 10,
   "id": "5505d00d-207a-417c-b8a5-1b7b31417529",
   "metadata": {
    "scrolled": true
   },
   "outputs": [],
   "source": [
    "# np.degrees(zenith_angle_array[0,225,:]) \n",
    "# sanity check for what the latitude angles would look like for longitude = 45, and phase = 0"
   ]
  },
  {
   "cell_type": "code",
   "execution_count": 11,
   "id": "f0f5cc0f-deff-429e-b2c4-5432a9cad2dc",
   "metadata": {},
   "outputs": [],
   "source": [
    "# np.degrees(zenith_angle_array[45,225,:]) \n",
    "# sanity check for what the latitude angles would look like for longitude = 45, and phase = 45"
   ]
  },
  {
   "cell_type": "code",
   "execution_count": 12,
   "id": "09204aa3-0f8d-484e-a5c1-58231080629e",
   "metadata": {},
   "outputs": [],
   "source": [
    "# np.degrees(zenith_angle_array[0,270,:]) \n",
    "# sanity check for what the latitude angles would look like for longitude = 90, and phase = 0"
   ]
  },
  {
   "cell_type": "code",
   "execution_count": 13,
   "id": "fffa9f4d-3750-4fb5-b363-884911e93a7f",
   "metadata": {},
   "outputs": [],
   "source": [
    "# np.degrees(zenith_angle_array[0,0,:]) \n",
    "# sanity check for what the latitude angles would look like for longitude = 0, and phase = 0"
   ]
  },
  {
   "cell_type": "code",
   "execution_count": 14,
   "id": "7d1f05fa-569f-46e4-bd47-b8fc6e5d4750",
   "metadata": {},
   "outputs": [],
   "source": [
    "# vector_zenith_angle_array = vector_calculate_zenith_angle(phase_array,\n",
    "#                                                           latitude_array,\n",
    "#                                                           longitude_array,\n",
    "#                                                           declination)\n",
    "# zenith_angle_array.shape # checking shape"
   ]
  },
  {
   "cell_type": "code",
   "execution_count": 15,
   "id": "b4bee4d3-e3a1-4711-be60-64a603cb2293",
   "metadata": {},
   "outputs": [],
   "source": [
    "# np.sum(vector_zenith_angle_array) == np.sum(zenith_angle_array) \n",
    "# because they are the essentially the same function, they should result in the same sum of angles"
   ]
  },
  {
   "cell_type": "code",
   "execution_count": 16,
   "id": "525a9635-a73f-4134-adb9-aeb6c7839391",
   "metadata": {},
   "outputs": [],
   "source": [
    "# zenith_angle_array[1,:,:].shape"
   ]
  },
  {
   "cell_type": "code",
   "execution_count": null,
   "id": "e3334eae-03bb-4034-add0-63ea82e4ad0d",
   "metadata": {},
   "outputs": [],
   "source": []
  },
  {
   "cell_type": "markdown",
   "id": "5d328692-cbdc-4558-8610-f2ceb5be9c47",
   "metadata": {},
   "source": [
    "## Calculate Heat Input"
   ]
  },
  {
   "cell_type": "code",
   "execution_count": 17,
   "id": "611f489d-fa5b-4248-b1f7-2b53eadb014c",
   "metadata": {},
   "outputs": [],
   "source": [
    "# def flux_input_func(W_0, zenith_angle_array, albedo, phase_step):\n",
    "#     \"\"\"\n",
    "#     - Parameters:\n",
    "#         - W_0: energy flux W / m**2\n",
    "#         - zenith_angle_array: array of incident vector angle w.r.t sun\n",
    "#         - albedo: Lunar Albedo\n",
    "#         - phase_step: phase ranges from [0,360) degrees\n",
    "    \n",
    "#     -Return: the flux input from the Sun. The time is indexed in degrees of phase, which allows isolating the values\n",
    "#     of latitude and longitude at that specific phase.\n",
    "#     \"\"\"\n",
    "#     # Calculate the heat input based on the zenith angle\n",
    "#     W_t = W_0 * np.clip(np.cos(zenith_angle_array[phase_step, :, :]), 0, None) * (1 - albedo)\n",
    "#     # the clip returns a 0 for any values less than 0 resulting from an angle greater than 90 degrees\n",
    "#     # this way no negative heat is introduced.\n",
    "    \n",
    "#     return W_t\n",
    "               \n"
   ]
  },
  {
   "cell_type": "code",
   "execution_count": 18,
   "id": "b9a0ad1c-f4dd-4337-a369-206e7de7790a",
   "metadata": {},
   "outputs": [],
   "source": [
    "def flux_input_func(W_0, zenith_angle_array, albedo):\n",
    "    \"\"\"\n",
    "    - Parameters:\n",
    "        - W_0: energy flux W / m**2\n",
    "        - zenith_angle_array: array of incident vector angle w.r.t sun\n",
    "        - albedo: Lunar Albedo\n",
    "    \n",
    "    -Return: the flux input from the Sun. The time is indexed in degrees of phase, which allows isolating the values\n",
    "    of latitude and longitude at that specific phase.\n",
    "    \"\"\"\n",
    "    # Calculate the heat input based on the zenith angle\n",
    "    W_t = W_0 * np.clip(np.cos(zenith_angle_array), 0, None) * (1 - albedo)\n",
    "\n",
    "    # W/m^2 = W/m^2 * C * C\n",
    "    # the clip returns a 0 for any values less than 0 resulting from an angle greater than 90 degrees\n",
    "    # this way no negative heat is introduced.\n",
    "    \n",
    "    return W_t\n",
    "               \n"
   ]
  },
  {
   "cell_type": "markdown",
   "id": "125f5744-acd3-4f3b-83c5-128b3bae43bc",
   "metadata": {},
   "source": [
    "#### Solar Irradiance Test"
   ]
  },
  {
   "cell_type": "code",
   "execution_count": 19,
   "id": "1907d62e-a426-49d4-a106-1eb0b8713f9e",
   "metadata": {
    "editable": true,
    "slideshow": {
     "slide_type": ""
    },
    "tags": []
   },
   "outputs": [],
   "source": [
    "W_0 = 1365.0 # Solar irradiance in W.m-2, the energy flux arriving from the Sun\n",
    "albedo = 0.15 # the lunar albedo\n",
    "phase = 0 # One degree in phase corresponds to 6700 seconds, phase ranges from [0,360) degrees\n",
    "                # corresponds to [0, 2,405,300 seconds), [0, 668 hours), [0,27.8 days) phase_step inputs must be integers\n",
    "\n",
    "zenith_angle_array_test = calculate_zenith_angle(phase)\n",
    "\n",
    "\n",
    "flux_input_array_test = flux_input_func(W_0, \n",
    "                                   zenith_angle_array_test, \n",
    "                                   albedo)"
   ]
  },
  {
   "cell_type": "code",
   "execution_count": 20,
   "id": "0ce1a59e-3119-4697-9ba6-ced4a1376399",
   "metadata": {},
   "outputs": [
    {
     "data": {
      "text/plain": [
       "(360, 180)"
      ]
     },
     "execution_count": 20,
     "metadata": {},
     "output_type": "execute_result"
    }
   ],
   "source": [
    "flux_input_array_test.shape"
   ]
  },
  {
   "cell_type": "code",
   "execution_count": 21,
   "id": "d75e63de-a786-4ada-a92e-60364b44875a",
   "metadata": {},
   "outputs": [
    {
     "data": {
      "text/plain": [
       "array([  10.12457728,   30.37064781,   50.60746714,   70.82887095,\n",
       "         91.02869959,  111.20080001,  131.3390276 ,  151.43724804,\n",
       "        171.48933923,  191.4891931 ,  211.43071751,  231.30783808,\n",
       "        251.11450004,  270.84467009,  290.49233822,  310.05151958,\n",
       "        329.51625625,  348.88061906,  368.13870947,  387.28466125,\n",
       "        406.31264238,  425.21685674,  443.99154592,  462.63099098,\n",
       "        481.12951416,  499.48148062,  517.68130019,  535.72342902,\n",
       "        553.60237131,  571.31268095,  588.84896321,  606.20587637,\n",
       "        623.37813335,  640.36050331,  657.14781326,  673.73494962,\n",
       "        690.11685979,  706.28855368,  722.24510523,  737.98165393,\n",
       "        753.49340626,  768.77563721,  783.82369165,  798.63298579,\n",
       "        813.1990086 ,  827.51732311,  841.58356782,  855.39345803,\n",
       "        868.94278711,  882.22742779,  895.24333345,  907.98653933,\n",
       "        920.4531637 ,  932.63940913,  944.54156355,  956.15600147,\n",
       "        967.47918501,  978.50766501,  989.2380821 ,  999.66716769,\n",
       "       1009.79174497, 1019.60872991, 1029.11513215, 1038.30805595,\n",
       "       1047.18470106, 1055.74236357, 1063.97843672, 1071.89041174,\n",
       "       1079.47587855, 1086.73252656, 1093.6581453 , 1100.25062519,\n",
       "       1106.50795807, 1112.42823791, 1118.00966133, 1123.25052818,\n",
       "       1128.14924204, 1132.70431071, 1136.91434667, 1140.77806751,\n",
       "       1144.2942963 , 1147.46196197, 1150.2800996 , 1152.74785077,\n",
       "       1154.86446378, 1156.62929389, 1158.04180351, 1159.10156237,\n",
       "       1159.80824768, 1160.16164415, 1160.16164415, 1159.80824768,\n",
       "       1159.10156237, 1158.04180351, 1156.62929389, 1154.86446378,\n",
       "       1152.74785077, 1150.2800996 , 1147.46196197, 1144.2942963 ,\n",
       "       1140.77806751, 1136.91434667, 1132.70431071, 1128.14924204,\n",
       "       1123.25052818, 1118.00966133, 1112.42823791, 1106.50795807,\n",
       "       1100.25062519, 1093.6581453 , 1086.73252656, 1079.47587855,\n",
       "       1071.89041174, 1063.97843672, 1055.74236357, 1047.18470106,\n",
       "       1038.30805595, 1029.11513215, 1019.60872991, 1009.79174497,\n",
       "        999.66716769,  989.2380821 ,  978.50766501,  967.47918501,\n",
       "        956.15600147,  944.54156355,  932.63940913,  920.4531637 ,\n",
       "        907.98653933,  895.24333345,  882.22742779,  868.94278711,\n",
       "        855.39345803,  841.58356782,  827.51732311,  813.1990086 ,\n",
       "        798.63298579,  783.82369165,  768.77563721,  753.49340626,\n",
       "        737.98165393,  722.24510523,  706.28855368,  690.11685979,\n",
       "        673.73494962,  657.14781326,  640.36050331,  623.37813335,\n",
       "        606.20587637,  588.84896321,  571.31268095,  553.60237131,\n",
       "        535.72342902,  517.68130019,  499.48148062,  481.12951416,\n",
       "        462.63099098,  443.99154592,  425.21685674,  406.31264238,\n",
       "        387.28466125,  368.13870947,  348.88061906,  329.51625625,\n",
       "        310.05151958,  290.49233822,  270.84467009,  251.11450004,\n",
       "        231.30783808,  211.43071751,  191.4891931 ,  171.48933923,\n",
       "        151.43724804,  131.3390276 ,  111.20080001,   91.02869959,\n",
       "         70.82887095,   50.60746714,   30.37064781,   10.12457728])"
      ]
     },
     "execution_count": 21,
     "metadata": {},
     "output_type": "execute_result"
    }
   ],
   "source": [
    "flux_input_array_test[180,:]"
   ]
  },
  {
   "cell_type": "code",
   "execution_count": 22,
   "id": "6f8dc3b0-6de9-4ec6-ad32-6158633c0394",
   "metadata": {
    "tags": []
   },
   "outputs": [],
   "source": [
    "# shape check\n",
    "# flux_input_array.shape\n",
    "# type(flux_input_array[0][0])"
   ]
  },
  {
   "cell_type": "code",
   "execution_count": 23,
   "id": "3630add7-39f5-4cf8-94ad-2ef279cba5ca",
   "metadata": {
    "editable": true,
    "scrolled": true,
    "slideshow": {
     "slide_type": ""
    },
    "tags": []
   },
   "outputs": [],
   "source": [
    "# verify that its matching the expected value\n",
    "# print('function output', flux_input_array[180,:][0], 'manual calculation', (1-albedo) * 1365)\n",
    "# sanity check for when longitude = 0, latitude = 0\n",
    "# if time = 0 then subsolar position is theta = 0, longitude = 0"
   ]
  },
  {
   "cell_type": "markdown",
   "id": "6580d84a-3c6b-452a-a210-60dd2a7c6a12",
   "metadata": {},
   "source": [
    "### Test of Lunar Flux"
   ]
  },
  {
   "cell_type": "markdown",
   "id": "98b32026-896b-4da2-9a98-de66f3c13c1e",
   "metadata": {},
   "source": [
    "Combining the functions from flux input and facet areas"
   ]
  },
  {
   "cell_type": "code",
   "execution_count": 24,
   "id": "3dbff62e-809c-4b6d-8129-61dd273e00f1",
   "metadata": {},
   "outputs": [],
   "source": [
    "# area_of_facets.shape, flux_input_array.shape"
   ]
  },
  {
   "cell_type": "markdown",
   "id": "dcf2363a-0b2d-486a-a408-533116d57980",
   "metadata": {},
   "source": [
    "If we are instead interested in the centres of the facets, the flux input needs its ends trimed off the last values in the longitude and latitude values"
   ]
  },
  {
   "cell_type": "code",
   "execution_count": 25,
   "id": "1ba30143-e380-4ffe-b634-58bc6955003b",
   "metadata": {},
   "outputs": [],
   "source": [
    "lunar_total_flux = area_of_facets * flux_input_array_test"
   ]
  },
  {
   "cell_type": "code",
   "execution_count": 26,
   "id": "3053c161-2944-4edf-8530-b3e4037fc301",
   "metadata": {},
   "outputs": [],
   "source": [
    "# # test of the 0 longitude positions\n",
    "# lunar_total_flux[180]"
   ]
  },
  {
   "cell_type": "code",
   "execution_count": 27,
   "id": "89682299-a40e-46ee-afc2-3f88da2ba8e1",
   "metadata": {},
   "outputs": [],
   "source": [
    "# np.sum(lunar_total_flux)"
   ]
  },
  {
   "cell_type": "markdown",
   "id": "91d9d173-1493-4759-b641-f116561a29ca",
   "metadata": {},
   "source": [
    "## Define Thermal Energy Tranfer Functions"
   ]
  },
  {
   "cell_type": "code",
   "execution_count": 28,
   "id": "3f318d55-7e0f-4dd0-a1c6-aebcfc513c3f",
   "metadata": {
    "tags": []
   },
   "outputs": [],
   "source": [
    "def rate_of_change_surface_thermal_energy_func(flux_input_array, area_of_facets, T_0, T_1, sigma, BasCond, tau):\n",
    "    \"\"\"\n",
    "    A function to calculate the rate of change of thermal energy at the surface \n",
    "    - Parameter: \n",
    "        - heat_input_array: a multi-dimensional array\n",
    "        - area_of_facets: area of each surface m^2\n",
    "        - T_0: temperatue at surface position [K]\n",
    "        - T_1: temperature at depth below surface [K]\n",
    "        - sigma: Stefan's constant 5.67e-8 (W/m²K⁴)\n",
    "        - BasCond: Basalt conductivity in (W/m/K)\n",
    "        - tau: 0.01, is the thickness of the slice [m]\n",
    "        \n",
    "    -Return: A scalar value of the rate of change of thermal energy of the surface layer\n",
    "    \"\"\"\n",
    "    # previous version\n",
    "    # dQ0_dt = heat_input_array - sigma * T_0**4 + (T_1 - T_0) / R \n",
    "\n",
    "    # Ken's Version\n",
    "    # LTK[j] =  LTK[j] + (A*(I - sigma*LTK[j]**4) + (LTK[j+1] - LTK[j])*beta)*delta_t/gamma        \n",
    "\n",
    "    dQ0_dt = (area_of_facets * (flux_input_array - sigma * T_0**4)) + ((T_1 - T_0) * BasCond * (area_of_facets/tau))\n",
    "    # W = (m^2 * ( W/m^2 - W/m^2/K^4 * K^4)) + ((K - K) * W/m/K * (m^2/m))\n",
    "    \n",
    "    return dQ0_dt"
   ]
  },
  {
   "cell_type": "code",
   "execution_count": 29,
   "id": "9244822e-d06b-4400-8f5a-30d3731ee39f",
   "metadata": {
    "tags": []
   },
   "outputs": [],
   "source": [
    "def rate_of_change_intermediate_thermal_energy_func(T_np1, T_n, T_nm1, BasCond, area_of_facets, tau):\n",
    "    \"\"\"\n",
    "    A function to calculate the rate of change of thermal energy in the intermediate layers\n",
    "    - Parameter: \n",
    "        - T_nm1: Previous Layer (T_n-1)\n",
    "        - T_np1: Next Layer (T_n+1)\n",
    "        - T_n: Layer being evaluated\n",
    "        - tau: dz or thickness of layer [m]\n",
    "        - BasCond: Basalt conductivity in W/m/K\n",
    "        - area_of_facets: surface area [m^2]\n",
    "        \n",
    "        \n",
    "    -Return: A scalar value of the rate of change of thermal energy of the surface layer applied to each element for which there \n",
    "    \"\"\"\n",
    "    # previous version\n",
    "    # dQn_dt = ((T_np1 - T_n) / R) + ((T_nm1 - T_n) / R)\n",
    "\n",
    "    # Ken's Version from moon_temp_model\n",
    "    # LTK[j] = LTK[j] + ((LTK[j+1]-LTK[j])*beta + (LTK[j-1] - LTK[j])*beta)*delta_t/gamma \n",
    "    # print(\"(T_np1 - T_n)\",(T_np1 - T_n), \"(T_nm1 - T_n)\",(T_nm1 - T_n))\n",
    "    # dQn_dt = area_of_facets * (((T_np1 - T_n) + (T_nm1 - T_n)) * BasCond * (area_of_facets/tau))\n",
    "    # W = m^2 * (((K - K) + (K - K)) * (W/m^3/K * m^2/m)\n",
    "\n",
    "    \n",
    "    dQn_dt = (((T_np1 - T_n) + (T_nm1 - T_n)) * (BasCond * area_of_facets/tau))\n",
    "    # W/m^2 = (((K - K) + (K - K)) * (W/m^3/K * m^2/m)\n",
    "\n",
    "\n",
    "    \n",
    "    return dQn_dt"
   ]
  },
  {
   "cell_type": "code",
   "execution_count": 30,
   "id": "b56fffa3-4e63-4305-ac1d-07eb4a6b5de5",
   "metadata": {
    "tags": []
   },
   "outputs": [],
   "source": [
    "def rate_of_change_final_thermal_energy_func(T_const, T_f, T_nm1, BasCond, area_of_facets, tau):\n",
    "    \"\"\"\n",
    "    The rate of change of thermal energy at the final depth \n",
    "    - Parameter: \n",
    "        - T_nm1: Previous Layer (T_n-1) [K]\n",
    "        - T_const: The temperature below the layers being evaluated, a constant value [K]\n",
    "        - T_f: The final layer being evaluated that between the previous layer and the T_constant layer [K]\n",
    "        - BasCond: Basalt conductivity in W/m/K\n",
    "        - area_of_facets: area of the evalulated facet in m^2\n",
    "        - \n",
    "    -Return: A scalar value of the rate of change of thermal energy of the surface layer applied to each element for which there \n",
    "\n",
    "    \"\"\"\n",
    "    dQf_dt = (((T_const - T_f) + (T_nm1 - T_f)) * (BasCond * area_of_facets/tau))\n",
    "\n",
    "    # W = (((K - K) + (K - K) * ( W/m/K * m^2/m)\n",
    "    \n",
    "    return dQf_dt"
   ]
  },
  {
   "cell_type": "code",
   "execution_count": 31,
   "id": "beb368aa-64b1-48b6-8a6a-8e2df85cf763",
   "metadata": {},
   "outputs": [],
   "source": [
    "# New Version\n",
    "def thermal_capacitance(BasCap, area, tau, density):\n",
    "    \"\"\"\n",
    "    Calculation of the thermal capacitance\n",
    "    - Parameters:\n",
    "        - BasCap: Basalt thermal capacity in J Kg-1.K-1 \n",
    "        - area: is the area of the slice of material, passed as an array of area's\n",
    "        - tau: 0.01, is the thickness of the slice [m]\n",
    "        - density: 1500.0, Lunar regolith density in Kg.m-3\n",
    "    - Return: gamma, thermal capacitance [J/K]\n",
    "    \"\"\"\n",
    "    gamma = BasCap * area * tau * density # J/K = J/kg/K * m^2 * m * kg/ m^3\n",
    "    \n",
    "    return gamma"
   ]
  },
  {
   "cell_type": "markdown",
   "id": "16e32d30-294d-4b03-9b77-b865008c0d49",
   "metadata": {},
   "source": [
    "## Develop the Heat Transfer Model"
   ]
  },
  {
   "cell_type": "code",
   "execution_count": 32,
   "id": "436553e8-f9f4-4efc-8fb1-e919a2030f1f",
   "metadata": {
    "jupyter": {
     "source_hidden": true
    },
    "tags": []
   },
   "outputs": [],
   "source": [
    "# # Heat transfer model function\n",
    "# def heat_transfer_model_func(heat_transfer_array, W_0, albedo, T_const, BasCap, area_of_facets, tau, rho, delta_t, model_run_time):\n",
    "#     \"\"\"\n",
    "#     Heat transfer model to update temperature in each layer over time.\n",
    "\n",
    "#     Parameters:\n",
    "#     - heat_transfer_array: 3D NumPy array representing solar flux with dependance on incident angle\n",
    "#     - W_0: Energy flux arriving from the Sun\n",
    "#     - albedo: Albedo (reflectivity) of the surface\n",
    "#     - T_const: Constant temperature for the final boundary condition\n",
    "#     - R: Thermal resistance between layers\n",
    "#     - beta\n",
    "#     - area\n",
    "#     - tau\n",
    "#     - delta_t: Time step for updating temperatures\n",
    "#     - model_run_time: Total simulation time in seconds\n",
    "\n",
    "#     Returns:\n",
    "#     - Updated heat_transfer_array with new temperatures for each layer.\n",
    "#     \"\"\"\n",
    "#     phase_step = 0\n",
    "    \n",
    "#     for second in range(0, model_run_time, delta_t): # range(start,stop,step)\n",
    "        \n",
    "#         # Step 1: Initialize Thermal Capacitance\n",
    "#         gamma = thermal_capacitance(BasCap, area_of_facets, tau, rho)\n",
    "\n",
    "        \n",
    "#         # Step 2: Update the surface layer (T_0)\n",
    "#         T_0 = heat_transfer_array[phase_step,:,:,0]\n",
    "#         T_1 = heat_transfer_array[phase_step,:,:,1]\n",
    "#         W_t = flux_input_func(W_0, zenith_angle_array, albedo, phase_step)\n",
    "#         dQ0_dt = rate_of_change_surface_thermal_energy_func(W_t[:-1,:-1], area_of_facets, T_0, T_1, sigma, BasCond, tau)\n",
    "#         T_0 += dQ0_dt * delta_t / gamma\n",
    "\n",
    "\n",
    "#         # Step 3: Update intermediate layers\n",
    "#         T_n = heat_transfer_array[phase_step,:,:,1:-1]  # All intermediate layers\n",
    "#         T_np1 = heat_transfer_array[phase_step,:,:,2:]  # Next layer in each direction\n",
    "#         T_nm1 = heat_transfer_array[phase_step,:,:,:-2]  # Previous layer in each direction\n",
    "#         dQn_dt = rate_of_change_intermediate_thermal_energy_func(T_np1, T_n, T_nm1, BasCond, area_of_facets[:,:,np.newaxis], tau)\n",
    "#         T_n += dQn_dt * delta_t / gamma[:,:,np.newaxis]\n",
    "\n",
    "#         # Step 4: Update the final layer (T_f)\n",
    "#         T_f = heat_transfer_array[phase_step,:,:,-1]\n",
    "#         T_fm1 = heat_transfer_array[phase_step,:,:,-2]\n",
    "#         T_nm1 = T_nm1[:,:,-1]\n",
    "#         dQf_dt = rate_of_change_final_thermal_energy_func(T_const, T_f, T_nm1, BasCond, area_of_facets, tau)\n",
    "#         T_f += dQf_dt * delta_t / gamma\n",
    "\n",
    "#         # Step 5: Update the heat transfer array with new temperatures\n",
    "#         heat_transfer_array[phase_step,:,:,0] = T_0\n",
    "#         heat_transfer_array[phase_step,:,:,1:-1] = T_n\n",
    "#         heat_transfer_array[phase_step,:,:,-1] = T_f\n",
    "\n",
    "#         # uncomment for diagnosing\n",
    "#         # print(f\"At second {second}: T_0 = {T_0}, T_1 = {T_1}, W_t = {W_t}, dQ0_dt = {dQ0_dt}\")\n",
    "#             # Independent phase_step increment based on the condition\n",
    "#         # if second % 6700 == 0:\n",
    "#         #     phase_step += 1\n",
    "#     return heat_transfer_array\n"
   ]
  },
  {
   "cell_type": "raw",
   "id": "d28be4ea-46e5-45c5-889a-0cb10bca016b",
   "metadata": {
    "jupyter": {
     "source_hidden": true
    },
    "tags": []
   },
   "source": [
    "# Correct version\n",
    "def heat_transfer_model_func(heat_transfer_array, W_0, albedo, T_const, BasCap, area_of_facets, tau, rho, delta_t, model_run_time):\n",
    "    \"\"\"\n",
    "    Heat transfer model to update temperature in each layer over time.\n",
    "\n",
    "    Parameters:\n",
    "    - heat_transfer_array: 3D NumPy array representing solar flux with dependance on incident angle\n",
    "    - W_0: Energy flux arriving from the Sun\n",
    "    - albedo: Albedo (reflectivity) of the surface\n",
    "    - T_const: Constant temperature for the final boundary condition\n",
    "    - R: Thermal resistance between layers\n",
    "    - beta\n",
    "    - area\n",
    "    - tau\n",
    "    - delta_t: Time step for updating temperatures\n",
    "    - model_run_time: Total simulation time in seconds\n",
    "\n",
    "    Returns:\n",
    "    - Updated heat_transfer_array with new temperatures for each layer.\n",
    "    \"\"\"\n",
    "    \n",
    "    for second in range(0, model_run_time, delta_t): # range(start,stop,step)\n",
    "        \n",
    "        # Step 1: Initialize Thermal Capacitance\n",
    "        gamma = thermal_capacitance(BasCap, area_of_facets, tau, rho)#.astype(np.float64)\n",
    "\n",
    "        \n",
    "        # Step 2: Update the surface layer (T_0)\n",
    "        T_0 = heat_transfer_array[:,:,0] # (longitude, latitude, depth)\n",
    "        print('T_0', T_0)\n",
    "        T_1 = heat_transfer_array[:,:,1]\n",
    "        print('T_1', T_1)\n",
    "\n",
    "        W_t = flux_input_func(W_0, zenith_angle_array, albedo) # (longitude, latitude)/(361, 91) flux as a f() of irradiance, sza, albedo\n",
    "        # remove last values of W_t\n",
    "        print('W_t',W_t)\n",
    "        dQ0_dt = rate_of_change_surface_thermal_energy_func(W_t[:-1,:-1], area_of_facets, T_0, T_1, sigma, BasCond, tau)\n",
    "        print('dQ0_dt',dQ0_dt)\n",
    "        T_0 += dQ0_dt * delta_t / gamma\n",
    "        print('T_0',T_0)\n",
    "        print('delta_t',delta_t)\n",
    "        print('gamma',gamma)\n",
    "\n",
    "        # Step 3: Update intermediate layers\n",
    "        T_n = heat_transfer_array[:,:,1:-1]  # All intermediate layers\n",
    "        # print('T_n', T_n)\n",
    "        T_np1 = heat_transfer_array[:,:,2:]  # Next layer in each direction\n",
    "        # print('T_np1',T_np1)\n",
    "        T_nm1 = heat_transfer_array[:,:,:-2]  # Previous layer in each direction\n",
    "        # print('T_nm1',T_nm1)\n",
    "        dQn_dt = rate_of_change_intermediate_thermal_energy_func(T_np1, T_n, T_nm1, BasCond, area_of_facets[:,:,np.newaxis], tau)\n",
    "        # print('dQn_dt',dQn_dt)\n",
    "        T_n += dQn_dt * delta_t / gamma[:,:,np.newaxis]\n",
    "        # print('T_n',T_n)\n",
    "        \n",
    "\n",
    "        # Step 4: Update the final layer (T_f)\n",
    "        T_f = heat_transfer_array[:,:,-1]\n",
    "        T_fm1 = heat_transfer_array[:,:,-2]\n",
    "        T_nm1 = T_nm1[:,:,-1]\n",
    "        dQf_dt = rate_of_change_final_thermal_energy_func(T_const, T_f, T_nm1, BasCond, area_of_facets, tau)\n",
    "        T_f += dQf_dt * delta_t / gamma\n",
    "\n",
    "        # Step 5: Update the heat transfer array with new temperatures\n",
    "        heat_transfer_array[:,:,0] = T_0\n",
    "        heat_transfer_array[:,:,1:-1] = T_n\n",
    "        heat_transfer_array[:,:,-1] = T_f\n",
    "\n",
    "        # uncomment for diagnosing\n",
    "        # print(f\"At second {second}: T_0 = {T_0}, T_1 = {T_1}, W_t = {W_t}, dQ0_dt = {dQ0_dt}\")\n",
    "            # Independent phase_step increment based on the condition\n",
    "        # if second % 6700 == 0:\n",
    "        #     phase_step += 1\n",
    "    return heat_transfer_array\n"
   ]
  },
  {
   "cell_type": "code",
   "execution_count": 33,
   "id": "fbf8c991-e7ce-4358-bbcf-955462dfa27a",
   "metadata": {
    "tags": []
   },
   "outputs": [],
   "source": [
    "# debugging function\n",
    "def heat_transfer_model_func(heat_transfer_array, W_0, albedo, T_const, BasCap, area_of_facets, tau, rho, delta_t, model_run_time):\n",
    "    \"\"\"\n",
    "    Heat transfer model to update temperature in each layer over time.\n",
    "\n",
    "    Parameters:\n",
    "    - heat_transfer_array: 3D NumPy array representing Temperature of all lunar soil layers [K]\n",
    "    - W_0: Energy flux arriving from the Sun [W/m^2]\n",
    "    - albedo: Albedo (reflectivity) of the surface [unitless]\n",
    "    - T_const: Constant temperature for the final boundary condition [K]\n",
    "    - BasCap: Basalt thermal capacity in J Kg-1.K-1\n",
    "    - area_of_facets: area of the evalulated facet [m^2]\n",
    "    - tau: tau: the thickness of the soil depth [m]\n",
    "    - delta_t: Time step for updating temperatures\n",
    "    - model_run_time: Total simulation time in seconds\n",
    "\n",
    "    Returns:\n",
    "    - heat_transfer_array: 3D numpy array with updated temperatures for each layer over elapsing run time.\n",
    "    \"\"\"\n",
    "\n",
    "    phase = 0\n",
    "    \n",
    "    # for second in tqdm(range(0, model_run_time, delta_t)): # range(start,stop,step)\n",
    "    for second in range(0, model_run_time, delta_t): # range(start,stop,step) No tqdm package installed in this env\n",
    "\n",
    "        \n",
    "        # Step 1: Initialize Thermal Capacitance\n",
    "        gamma = thermal_capacitance(BasCap, area_of_facets, tau, rho)#.astype(np.float64)\n",
    "\n",
    "        \n",
    "        # Step 2: Update the surface layer (T_0)\n",
    "        T_0 = heat_transfer_array[:,:,0] # (longitude, latitude, depth)\n",
    "        T_1 = heat_transfer_array[:,:,1]\n",
    "\n",
    "        zenith_angle_array = calculate_zenith_angle(phase)\n",
    "        W_t = flux_input_func(W_0, zenith_angle_array, albedo) \n",
    "\n",
    "        dQ0_dt = rate_of_change_surface_thermal_energy_func(W_t, area_of_facets, T_0, T_1, sigma, BasCond, tau)\n",
    "        T_0 += dQ0_dt * delta_t / gamma\n",
    "\n",
    "        # Step 3: Update intermediate layers\n",
    "        T_n = heat_transfer_array[:,:,1:-1]  # All intermediate layers\n",
    "\n",
    "        T_np1 = heat_transfer_array[:,:,2:]  # Next layer in each direction\n",
    "\n",
    "        T_nm1 = heat_transfer_array[:,:,:-2]  # Previous layer in each direction\n",
    "        dQn_dt = rate_of_change_intermediate_thermal_energy_func(T_np1, T_n, T_nm1, BasCond, area_of_facets[:,:,np.newaxis], tau)\n",
    "        T_n += dQn_dt * delta_t / gamma[:,:,np.newaxis]\n",
    "\n",
    "        # Step 4: Update the final layer (T_f)\n",
    "        T_f = heat_transfer_array[:,:,-1]\n",
    "        T_fm1 = heat_transfer_array[:,:,-2]\n",
    "        T_nm1 = T_nm1[:,:,-1]\n",
    "        dQf_dt = rate_of_change_final_thermal_energy_func(T_const, T_f, T_nm1, BasCond, area_of_facets, tau)\n",
    "        T_f += dQf_dt * delta_t / gamma\n",
    "\n",
    "        # Step 5: Update the heat transfer array with new temperatures\n",
    "        heat_transfer_array[:,:,0] = T_0\n",
    "        heat_transfer_array[:,:,1:-1] = T_n\n",
    "        heat_transfer_array[:,:,-1] = T_f\n",
    "            \n",
    "        if second % 7080 == 0:\n",
    "            phase += 1 # phase_step increment to account for a rotating moom\n",
    "            \n",
    "    return heat_transfer_array"
   ]
  },
  {
   "cell_type": "code",
   "execution_count": null,
   "id": "185cebac-5850-4ed2-80f9-07af4be2e066",
   "metadata": {},
   "outputs": [],
   "source": []
  },
  {
   "cell_type": "markdown",
   "id": "fa667af7-f0cc-4459-b521-273c0e25ab84",
   "metadata": {
    "tags": []
   },
   "source": [
    "## Create the heat transfer array and run function"
   ]
  },
  {
   "cell_type": "code",
   "execution_count": 34,
   "id": "d19fa635-9682-409d-92c5-e8fe247b3b95",
   "metadata": {
    "tags": []
   },
   "outputs": [],
   "source": [
    "# we know the heat_input_array is of the shape (360,91) for which there are 360 phase degree steps.\n",
    "# The full phase model will be of shape (360,360,91) and now we want to add a depth component of 100 layers\n",
    "# This will bring the shape to (360,360,91,100) of which its components are (phase, longitude, latitude, depth)\n",
    "# of which there is one depth for component for each latitude, longitude pair per phase.\n",
    "# This turns out to be 1.1 billion elements, lets instead start with a per phase_step"
   ]
  },
  {
   "cell_type": "code",
   "execution_count": null,
   "id": "3c03de60-2700-43e0-a28c-5fe740ae3750",
   "metadata": {
    "tags": []
   },
   "outputs": [],
   "source": [
    "T_const = 225# The initial temperature to which all values are set to initially\n",
    "\n",
    "# creating an array of (longitude, latitude, depth) filled with T_const\n",
    "# Ensure the heat_transfer_array is float64 for floating-point operations\n",
    "# must be run each time to reset the heat_transfer_array \n",
    "heat_transfer_array = np.full((360, 180, 100), T_const).astype(np.float64)\n",
    "\n",
    "# setting various varibles\n",
    "sigma = 5.67e-8  # Stefan-Boltzmann constant (W/m²K⁴)\n",
    "W_0 = 1365.0   # the energy flux arriving from the Sun\n",
    "# BasCond = 1.50e3                 #Basalt conductivity in W.m-3.K-1\n",
    "albedo = 0.15 # lunar albedo\n",
    "BasCap = 670.0 #Basalt thermal capacity in J Kg-1.K-1 \n",
    "rho = 1500 # Lunar regolith density in Kg.m-3\n",
    "BasCond = 7.4e-4 # Basalt thermal conductivity (W/m·K)\n",
    "\n",
    "tau = 0.01 # tau is the thickness of the slice (meters)\n",
    "delta_t = 60 # time over which each loop calculation is preformed\n",
    "model_run_time = 86400 # simulation run time in seconds\n",
    "\n",
    "# run the function \n",
    "heat_transfer_array = heat_transfer_model_func(heat_transfer_array, W_0, albedo, T_const, BasCap, area_of_facets, tau, rho, delta_t, model_run_time)"
   ]
  },
  {
   "cell_type": "code",
   "execution_count": null,
   "id": "c53eb585-e821-47f1-91d4-87a3981fbf9b",
   "metadata": {},
   "outputs": [],
   "source": [
    "heat_transfer_array.shape"
   ]
  },
  {
   "cell_type": "code",
   "execution_count": 37,
   "id": "ac433ee0-5c54-4401-9903-ef38245697e0",
   "metadata": {
    "editable": true,
    "slideshow": {
     "slide_type": ""
    },
    "tags": []
   },
   "outputs": [],
   "source": [
    "# heat_transfer_model_array[0,180,0,:] # Sanity check, values where longitude = 0, theta = 0, and the full depth of 100 layers"
   ]
  },
  {
   "cell_type": "markdown",
   "id": "3cc395e0-9a3b-412f-ab6b-91cd42ad59d5",
   "metadata": {},
   "source": [
    "## Heat Plots"
   ]
  },
  {
   "cell_type": "code",
   "execution_count": 41,
   "id": "f5600662-8c11-44f3-a8e6-3096d9615290",
   "metadata": {},
   "outputs": [
    {
     "data": {
      "application/vnd.jupyter.widget-view+json": {
       "model_id": "3b1ff57f3d6446c0b9f543253843afea",
       "version_major": 2,
       "version_minor": 0
      },
      "image/png": "[encoded data removed]",
      "text/html": [
       "\n",
       "            <div style=\"display: inline-block;\">\n",
       "                <div class=\"jupyter-widgets widget-label\" style=\"text-align: center;\">\n",
       "                    Figure\n",
       "                </div>\n",
       "                <img src='data:image/png;base64,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' width=1000.0/>\n",
       "            </div>\n",
       "        "
      ],
      "text/plain": [
       "Canvas(toolbar=Toolbar(toolitems=[('Home', 'Reset original view', 'home', 'home'), ('Back', 'Back to previous …"
      ]
     },
     "metadata": {},
     "output_type": "display_data"
    }
   ],
   "source": [
    "%matplotlib widget\n",
    "\n",
    "deg_res = 0.5\n",
    "longitude_array= np.arange(-180 + deg_res, 180)#, dtype = np.int16)  # setting longitude range in degrees\n",
    "latitude_array = np.arange(-90 + deg_res, 90)#, dtype = np.int16)  # setting latitude range in degrees, (0,90 exclusive) I'm considering the centre point of each facet\n",
    "radius = moon_radius\n",
    "\n",
    "# Convert spherical coordinates to Cartesian coordinates\n",
    "lon, lat = np.meshgrid(longitude_array, latitude_array, indexing='ij')\n",
    "\n",
    "# Convert spherical coordinates to Cartesian coordinates\n",
    "x = radius * np.cos(np.radians(lat)) * np.cos(np.radians(lon))\n",
    "y = radius * np.cos(np.radians(lat)) * np.sin(np.radians(lon))\n",
    "z = radius * np.sin(np.radians(lat))\n",
    "\n",
    "# Temperature data at surface layer (depth=0)\n",
    "temp_surface = heat_transfer_array[:, :, 0]\n",
    "\n",
    "# Normalize temperature values for color mapping\n",
    "norm = colors.Normalize(vmin=np.min(temp_surface), vmax=np.max(temp_surface))\n",
    "cmap = cm.jet\n",
    "\n",
    "# Create figure\n",
    "fig = plt.figure(figsize=(10, 10))\n",
    "ax = fig.add_subplot(111, projection='3d')\n",
    "\n",
    "ax.set_aspect(aspect = 'equal')\n",
    "\n",
    "# Surface plot with correct color mapping\n",
    "surf = ax.plot_surface(x, y, z, facecolors=cmap(norm(temp_surface)), linewidth=0, antialiased=False)\n",
    "\n",
    "# Create a ScalarMappable for the colorbar\n",
    "mappable = cm.ScalarMappable(norm=norm, cmap=cmap)\n",
    "mappable.set_array([])  # Empty array because plot_surface uses facecolors\n",
    "\n",
    "# Add colorbar\n",
    "cbar = fig.colorbar(mappable, ax=ax, shrink=0.5, aspect=10)\n",
    "cbar.set_label('Temperature (K)')\n",
    "\n",
    "# Labels and title\n",
    "ax.set_xlabel('X Coordinate (km)')\n",
    "ax.set_ylabel('Y Coordinate (km)')\n",
    "ax.set_zlabel('Z Coordinate (km)')\n",
    "ax.set_title(f'Lunar Surface Temperature at Timestep = {model_run_time} seconds')\n",
    "# ax.set_title(f'Lunar Surface Temperature at Timestep = {(timestep_to_plot) * 60} seconds')\n",
    "\n",
    "\n",
    "# Adjust view angle for better visibility\n",
    "ax.view_init(elev=30, azim=0)\n",
    "\n",
    "plt.savefig(f\"Lunar Surface Temperature Heatmap at Timestep = {model_run_time} seconds.png\")\n",
    "\n",
    "\n",
    "plt.show()"
   ]
  },
  {
   "cell_type": "markdown",
   "id": "fb4b76c2-fcf7-4d0f-82bc-7be18307ac2f",
   "metadata": {
    "tags": []
   },
   "source": [
    "## The Radio Brightness Temperature"
   ]
  },
  {
   "cell_type": "code",
   "execution_count": null,
   "id": "f70ec008-a84d-4167-94c1-293c0cde48ad",
   "metadata": {},
   "outputs": [],
   "source": [
    "def radio_brightness_temp_func(alpha, T_const, heat_transfer_model_array):\n",
    "    \"\"\"\n",
    "    Calculates the radio brightness temperature profile for lunar soil layers.\n",
    "\n",
    "    The brightness temperature (χ) at each layer is computed recursively from bottom\n",
    "    (deepest layer, near constant temperature T_const) to top (surface layer radiating into space),\n",
    "    using a weighted sum of the temperatures of adjacent layers. This reflects the physical process\n",
    "    of thermal emission propagating upward through the regolith.\n",
    "\n",
    "    Formula used (from Lunar Thermal Model documentation):\n",
    "        χ_n = α * χ_(n+1) + (1 - α) * T_n\n",
    "    where:\n",
    "        - χ is the brightness temperature at each layer.\n",
    "        - α is the weighting factor determined by radio-frequency (RF) attenuation properties.\n",
    "        - T_const (T*) is the constant base temperature at the deepest layer.\n",
    "        - T_n is the physical temperature at layer n obtained from heat_transfer_model_array.\n",
    "\n",
    "    Parameters:\n",
    "    ----------\n",
    "    alpha : float\n",
    "        Weighting factor (0 < α < 1) representing RF attenuation between layers. It defines how much\n",
    "        each layer’s brightness temperature is influenced by the layer immediately below it.\n",
    "        A value closer to 1 implies strong dependence on deeper layers, and a smaller value\n",
    "        suggests stronger influence from the immediate physical temperature of the layer.\n",
    "\n",
    "    T_const : float\n",
    "        Constant temperature (Kelvin) at the bottom-most layer of the regolith,\n",
    "        assumed stable (typically ~constant below ~0.8 m depth).\n",
    "\n",
    "    heat_transfer_array : np.ndarray\n",
    "        3D numpy array of shape (latitude, longitude, depth), representing physical temperatures (Kelvin)\n",
    "        at different lunar soil layers for each spatial facet. The depth axis (3rd dimension)\n",
    "        is organized from surface (index 0) to the deepest layer (index -1).\n",
    "\n",
    "    Returns:\n",
    "    --------\n",
    "    chi_0 : np.ndarray\n",
    "        2D array of brightness temperatures (Kelvin) at the lunar surface layer (depth = 0),\n",
    "        representing the radiative temperature emitted into space.\n",
    "\n",
    "    chi_layers : np.ndarray\n",
    "        3D array containing brightness temperatures (Kelvin) for all layers at each facet.\n",
    "        Same shape as heat_transfer_model_array, with the depth axis ordered from surface (index 0)\n",
    "        downwards.\n",
    "    \"\"\"\n",
    "\n",
    "    # Step 1: Get the number of layers (depth is the last axis)\n",
    "    num_layers = heat_transfer_array.shape[2]\n",
    "\n",
    "    # Step 2: Initialize chi array for brightness temperatures\n",
    "    chi_layers = np.zeros_like(heat_transfer_array)\n",
    "\n",
    "    # Step 3: Compute brightness temperature at the bottom layer (deepest)\n",
    "    chi_layers[:, :, -1] = alpha * T_const + (1 - alpha) * heat_transfer_array[:, :, -1]\n",
    "\n",
    "    # Step 4: Recursively calculate brightness temperature upwards through layers\n",
    "    for n in range(num_layers - 2, -1, -1):\n",
    "        chi_layers[:, :, n] = alpha * chi_layers[:, :, n + 1] + (1 - alpha) * heat_transfer_array[:, :, n]\n",
    "\n",
    "    # Step 5: Extract brightness temperature at the surface (top layer)\n",
    "    chi_0 = chi_layers[:, :, 0]\n",
    "\n",
    "    return chi_0, chi_layers\n"
   ]
  },
  {
   "cell_type": "code",
   "execution_count": null,
   "id": "bfddf763-cf16-4dd9-a175-a4c8a8d6afae",
   "metadata": {},
   "outputs": [],
   "source": [
    "# rf_absorption_coefficent = 1\n",
    "rf_absorption_coefficent = 0.5\n",
    "delta_z = 0.01\n",
    "alpha = np.exp(-rf_absorption_coefficent * delta_z)  # RF Transmission Coefficient\n",
    "alpha"
   ]
  },
  {
   "cell_type": "code",
   "execution_count": null,
   "id": "6b61292c-c81e-49cd-adbe-fef38fcabe24",
   "metadata": {},
   "outputs": [],
   "source": [
    "chi_0 , chi_layers = radio_brightness_temp_func(alpha, T_const, heat_transfer_array)"
   ]
  },
  {
   "cell_type": "code",
   "execution_count": null,
   "id": "fbefcbb9-62a8-4c2f-b02d-ca7688d0b62b",
   "metadata": {},
   "outputs": [],
   "source": [
    "chi_0.shape, chi_layers.shape"
   ]
  },
  {
   "cell_type": "code",
   "execution_count": 35,
   "id": "7c64fcfc-de18-4bb9-abd2-0899f0928de7",
   "metadata": {},
   "outputs": [],
   "source": [
    "# chi_0[180,0], chi_layers[180,0]"
   ]
  },
  {
   "cell_type": "markdown",
   "id": "7f297154-a0d8-4d4d-b824-f3ad7b44fca4",
   "metadata": {
    "tags": []
   },
   "source": [
    "## Solid Angle Calculations"
   ]
  },
  {
   "cell_type": "code",
   "execution_count": 36,
   "id": "e826060e-f013-46b0-8a6b-fb7a0093b1f1",
   "metadata": {},
   "outputs": [],
   "source": [
    "moon_radius = 1.737e6  # Radius of the Moon in meters\n",
    "distance_to_earth = 3.844e8  # Average distance from the Moon to Earth in meters"
   ]
  },
  {
   "cell_type": "code",
   "execution_count": 111,
   "id": "b9337d52-be74-4553-b3d8-bbd86b257a3b",
   "metadata": {
    "tags": []
   },
   "outputs": [],
   "source": [
    "def calculate_solid_angles_for_moon(moon_radius, distance_to_earth, area_of_facets):\n",
    "    \"\"\"\n",
    "    Calculates solid angles subtended by lunar facets as viewed from Earth,\n",
    "    accounting for projection (cosine) effects. Only facets facing the Earth are included.\n",
    "\n",
    "    Parameters:\n",
    "    - moon_radius : float\n",
    "        Radius of the Moon in meters.\n",
    "\n",
    "    - distance_to_earth : float\n",
    "        Distance from the Moon to the Earth in meters.\n",
    "\n",
    "    - area_of_facets : np.ndarray\n",
    "        2D array of lunar facet areas (m²) corresponding to latitude (0° to 90°) \n",
    "        and longitude (-180° to 180°). Shape should match the latitude-longitude grid.\n",
    "\n",
    "    Returns:\n",
    "    -------\n",
    "    solid_angles : np.ndarray\n",
    "        2D array (same shape as `area_of_facets`) containing solid angles in steradians.\n",
    "\n",
    "    Notes:\n",
    "    ------\n",
    "    - Solid angle calculation considers both the actual facet area and its geometric projection \n",
    "      relative to Earth's viewing direction.\n",
    "    - Facets not facing Earth (cos(theta) ≤ 0) will have zero solid angle.\n",
    "    - Ensure the longitude ranges from -180° to 180° and latitude from 0° to 90° to \n",
    "      represent one hemisphere. (The other hemisphere can be mirrored.)\n",
    "\n",
    "    Returns:\n",
    "        solid_angles : np.ndarray\n",
    "            2D array of solid angles subtended by each facet (in steradians).\n",
    "    \"\"\"\n",
    "\n",
    "    # Define longitude and latitude ranges (degrees)\n",
    "    longitude_edges = np.arange(-180, 180, 1)  # Longitude from -180° to 180°\n",
    "    latitude_edges = np.arange(0, 90, 1)       # Latitude from equator to pole\n",
    "\n",
    "    # Convert latitude and longitude arrays from degrees to radians\n",
    "    latitudes_rad = np.radians(latitude_edges)\n",
    "    longitudes_rad = np.radians(longitude_edges)\n",
    "\n",
    "    # Create meshgrid for broadcasting\n",
    "    lon_grid, lat_grid = np.meshgrid(longitudes_rad, latitudes_rad)\n",
    "\n",
    "    # Facet normal vectors (in lunar-centric coordinates)\n",
    "    x_facet = np.cos(lat_grid) * np.cos(lon_grid)\n",
    "    y_facet = np.cos(lat_grid) * np.sin(lon_grid)\n",
    "    z_facet = np.sin(lat_grid)\n",
    "\n",
    "    facet_normals = np.stack((x_facet, y_facet, z_facet), axis=-1)\n",
    "\n",
    "    # Vector pointing toward Earth along +x axis\n",
    "    earth_vector = np.array([1, 0, 0])  # assuming Earth is directly aligned along x\n",
    "\n",
    "    # Calculate cos(theta) between Earth and facet normals\n",
    "    cos_theta = np.dot(facet_normals, earth_vector)\n",
    "\n",
    "    # Transpose the array\n",
    "    cos_theta = cos_theta.T\n",
    "\n",
    "    # Only facets facing Earth (cos_theta > 0) contribute\n",
    "    cos_theta = np.clip(cos_theta, 0, 1)\n",
    "\n",
    "    # Calculate solid angles\n",
    "    solid_angles = area_of_facets * cos_theta / (distance_to_earth**2)\n",
    "\n",
    "    return solid_angles"
   ]
  },
  {
   "cell_type": "code",
   "execution_count": 114,
   "id": "22ccd958-fc91-4719-9d22-8e9d60e5cc3d",
   "metadata": {},
   "outputs": [
    {
     "data": {
      "text/plain": [
       "np.float64(6.21964453935845e-09)"
      ]
     },
     "execution_count": 114,
     "metadata": {},
     "output_type": "execute_result"
    }
   ],
   "source": [
    "# Calculate solid angles\n",
    "solid_angles = calculate_solid_angles_for_moon(moon_radius, distance_to_earth, area_of_facets)\n",
    "\n",
    "solid_angles[180,0]\n"
   ]
  },
  {
   "cell_type": "code",
   "execution_count": 138,
   "id": "c99b4268-f846-4a5d-9ccb-18f5ac0fd509",
   "metadata": {},
   "outputs": [
    {
     "data": {
      "text/plain": [
       "np.float64(3.2249718979730945e-05)"
      ]
     },
     "execution_count": 138,
     "metadata": {},
     "output_type": "execute_result"
    }
   ],
   "source": [
    "# Calculate solid angle for the entire visible moon\n",
    "solid_angle_moon = np.sum(calculate_solid_angles_for_moon(moon_radius, distance_to_earth, area_of_facets))\n",
    "solid_angle_moon"
   ]
  },
  {
   "cell_type": "markdown",
   "id": "d0a55bcb-8c41-45d4-b09b-932cd8e0ef21",
   "metadata": {
    "tags": []
   },
   "source": [
    "## The Radio Flux Density"
   ]
  },
  {
   "cell_type": "markdown",
   "id": "5c9924b0-cba6-4e1f-8b1d-b700a454d31c",
   "metadata": {},
   "source": [
    "If Ωj is the solid angle subtended by the jth facet as viewed from the Earth, the contribution to the radio flux density is:"
   ]
  },
  {
   "cell_type": "code",
   "execution_count": 118,
   "id": "2da05997-a4d2-4920-accc-c0ad6bf3b4c8",
   "metadata": {},
   "outputs": [],
   "source": [
    "# Constants\n",
    "k_B = 1.38e-23  # Boltzmann constant in J/K\n",
    "wavelength = 0.21"
   ]
  },
  {
   "cell_type": "code",
   "execution_count": 133,
   "id": "a0910f48-c6ce-409a-9a8c-19205768dd6a",
   "metadata": {},
   "outputs": [],
   "source": [
    "def radio_flux_density(chi_0, solid_angles, wavelength):\n",
    "    \"\"\"\n",
    "    Calculates the total radio flux density emitted by the lunar disc \n",
    "    and the flux density contribution from each individual facet.\n",
    "\n",
    "    The radio flux density (S) at frequency ν (related to wavelength λ by c = νλ) \n",
    "    is computed from brightness temperature (χ₀) and the solid angle subtended by each facet.\n",
    "\n",
    "    Formula:\n",
    "        ΔS_j = (2 k_B χ₀_j / λ²) Ω_j\n",
    "\n",
    "    Parameters:\n",
    "    -----------\n",
    "    chi_0 : np.ndarray\n",
    "        2D array of brightness temperatures (Kelvin) at the lunar surface (top layer),\n",
    "        shape: (latitude, longitude).\n",
    "        \n",
    "    solid_angles : np.ndarray\n",
    "        2D array of solid angles (steradians) subtended by each lunar facet as viewed from Earth.\n",
    "        Same shape as `chi_0`.\n",
    "    \n",
    "    wavelength : float\n",
    "        Wavelength of the observed radio emission (meters).\n",
    "\n",
    "    Returns:\n",
    "    --------\n",
    "    total_flux_density : float\n",
    "        Total radio flux density emitted by the lunar disc (Watts per square meter per Hertz, W·m⁻²·Hz⁻¹).\n",
    "        \n",
    "    delta_S : np.ndarray\n",
    "        2D array of the flux density contribution from each individual facet (W/m²/Hz).\n",
    "        Same shape as `chi_0`.\n",
    "\n",
    "    Notes:\n",
    "    ------\n",
    "    - Boltzmann's constant (k_B ≈ 1.380649 × 10⁻²³ J/K) relates brightness temperature to radiative flux.\n",
    "    - Radio flux density per facet follows the Rayleigh-Jeans approximation:\n",
    "\n",
    "      Delta S = 2 * k_B * chi_0 * Omega/lambda^2\n",
    "\n",
    "    Reference:\n",
    "    ----------\n",
    "    - Radio astronomy fundamentals: [https://science.nrao.edu/opportunities/courses/era/flux-density](https://science.nrao.edu/opportunities/courses/ERA/radioastronomybasics.pdf)\n",
    "    \"\"\"\n",
    "    # Individual flux density contribution (W/m²/Hz)\n",
    "    delta_S = (2 * k_B * chi_0 * solid_angles) / (wavelength**2)\n",
    "\n",
    "    # Total flux density (W/m²/Hz)\n",
    "    total_flux_density = np.sum(delta_S)\n",
    "\n",
    "    return total_flux_density, delta_S\n"
   ]
  },
  {
   "cell_type": "code",
   "execution_count": 134,
   "id": "0da4006a-36ef-44de-906c-9c8248439228",
   "metadata": {},
   "outputs": [],
   "source": [
    "total_flux_density_arr, delta_S = radio_flux_density(chi_0, solid_angles, wavelength)"
   ]
  },
  {
   "cell_type": "code",
   "execution_count": 135,
   "id": "4e387a73-50bc-475a-8554-7ccaf15d3bd2",
   "metadata": {},
   "outputs": [
    {
     "data": {
      "text/plain": [
       "np.float64(4.5530482032302205e-24)"
      ]
     },
     "execution_count": 135,
     "metadata": {},
     "output_type": "execute_result"
    }
   ],
   "source": [
    "total_flux_density_arr"
   ]
  },
  {
   "cell_type": "code",
   "execution_count": 144,
   "id": "fe7ce764-3b5e-4578-b52f-d05471ced9b2",
   "metadata": {},
   "outputs": [],
   "source": [
    "def average_radio_brightness_temperature(total_flux_density, wavelength, solid_angle_moon):\n",
    "    \"\"\"\n",
    "    Calculates the average radio brightness temperature (Kelvin) for the lunar disc \n",
    "    based on the total measured radio flux density.\n",
    "\n",
    "    The average brightness temperature (T_b) provides a single representative temperature\n",
    "    value derived from the total flux density and the Moon's apparent solid angle in the sky.\n",
    "\n",
    "    Parameters:\n",
    "    -----------\n",
    "    total_flux_density : float\n",
    "        The total radio flux density emitted by the lunar disc (W/m²/Hz).\n",
    "\n",
    "    wavelength : float\n",
    "        Wavelength of the observed radio emission (meters).\n",
    "\n",
    "    solid_angle_moon : float\n",
    "        Total solid angle (steradians) subtended by the lunar disc as seen from Earth.\n",
    "        Typically Ω₀ ≈ 6.4236 × 10⁻⁵ sr at mean Earth-Moon distance (~384,400 km).\n",
    "\n",
    "    Returns:\n",
    "    --------\n",
    "    average_brightness_temp : float\n",
    "        Average brightness temperature (Kelvin) of the lunar disc.\n",
    "\n",
    "    Formula:\n",
    "    --------\n",
    "    T_b = S lambda^2/{2 k_B Omega_0\n",
    "\n",
    "    where:\n",
    "    - S is the total flux density (W·m⁻²·Hz⁻¹),\n",
    "    - λ is the wavelength (m),\n",
    "    - k_B ≈ 1.380649 × 10⁻²³ J/K is Boltzmann's constant,\n",
    "    - Ω₀ is the solid angle subtended by the Moon (steradians).\n",
    "\n",
    "    Reference:\n",
    "    ----------\n",
    "    - NRAO Radio Astronomy Basics: [Link](https://science.nrao.edu/opportunities/courses/ERA/radioastronomybasics.pdf)\n",
    "    \"\"\"\n",
    "    \n",
    "    # Calculate average brightness temperature (Kelvin)\n",
    "    average_brightness_temp = (total_flux_density * wavelength**2) / (2 * k_B * solid_angle_moon)\n",
    "\n",
    "    return average_brightness_temp"
   ]
  },
  {
   "cell_type": "code",
   "execution_count": 143,
   "id": "fd8bf8c0-8787-4a48-b5d5-11168d6a0373",
   "metadata": {},
   "outputs": [
    {
     "data": {
      "text/plain": [
       "np.float64(225.58271589479935)"
      ]
     },
     "execution_count": 143,
     "metadata": {},
     "output_type": "execute_result"
    }
   ],
   "source": [
    "avg_brightness_temperature_arr = average_radio_brightness_temperature(total_flux_density_arr, wavelength, solid_angle_moon)\n",
    "avg_brightness_temperature_arr"
   ]
  },
  {
   "cell_type": "markdown",
   "id": "dbf95223-c664-4a9b-acad-08182bd22f0e",
   "metadata": {},
   "source": [
    "### Kens moon_temp_model"
   ]
  },
  {
   "cell_type": "code",
   "execution_count": null,
   "id": "aad2b61b-6206-4d15-aec8-c3993ba47b98",
   "metadata": {},
   "outputs": [],
   "source": [
    "import numpy as np\n",
    "\n",
    "# Model Constants\n",
    "DELTA_PHASE = 0.05                # Phase increment in degrees\n",
    "LUNATION_COUNT = 16               # Number of lunations\n",
    "LUNATION_SECONDS = ((29 * 24 + 12) * 60 + 44) * 60\n",
    "\n",
    "# File setup for output\n",
    "fname = \"moontemp_phaseloop.csv\"\n",
    "\n",
    "# Physical Constants\n",
    "PI = np.pi\n",
    "SIGMA = 5.67e-8                # Stefan-Boltzmann Constant (W/m^2K^4)\n",
    "BAS_COND = 1.50e3              # Basalt conductivity (W.m-3.K-1)\n",
    "BAS_CAP = 670.0                # Basalt thermal capacity (J Kg-1.K-1)  \n",
    "RHO = 1500.0                   # Lunar regolith density (Kg.m-3)\n",
    "ALBEDO = 0.15                  # Lunar albedo (dimensionless)\n",
    "SOLAR_CONSTANT = 1365.0        # Solar irradiance (W/m^2)\n",
    "T_MEAN = 225.0                 # Mean lunar soil temperature in Kelvins\n",
    "RF_ABSORPTION_COEFF = 1        # RF Transmission Coefficient\n",
    "\n",
    "# Model Parameters\n",
    "A = 1.0                        # Surface area of element (square meters)\n",
    "DELTA_Z = 0.01                 # Thickness of element (meters)\n",
    "MASS_ELEMENT = A * DELTA_Z * RHO  # Mass of element (kg)\n",
    "\n",
    "# Derived constants\n",
    "I0 = (1 - ALBEDO) * SOLAR_CONSTANT  # Solar energy absorbed by lunar surface\n",
    "BETA = BAS_COND * A / DELTA_Z       # Conductivity parameter\n",
    "GAMMA = BAS_CAP * MASS_ELEMENT      # Thermal capacity parameter\n",
    "ALPHA = np.exp(-RF_ABSORPTION_COEFF * DELTA_Z)  # RF Transmission Coefficient\n",
    "\n",
    "def calculate_zenith_angle(phase):\n",
    "    \"\"\"Calculate the zenith angle of the sun based on the phase.\"\"\"\n",
    "    zenith_angle = abs(phase - 180)\n",
    "    return zenith_angle\n",
    "\n",
    "def calculate_solar_irradiance(phase):\n",
    "    \"\"\"Calculate solar irradiance at the surface based on phase.\"\"\"\n",
    "    zenith_angle = calculate_zenith_angle(phase)\n",
    "    if zenith_angle > 90:\n",
    "        return 0\n",
    "    irradiance = I0 * np.cos(np.radians(zenith_angle))\n",
    "    return irradiance\n",
    "\n",
    "def update_temperature_intermediate_layers(LTK, irradiance, delta_t):\n",
    "    \"\"\"Update the temperature of intermediate soil layers.\"\"\"\n",
    "    for j in range(29):\n",
    "        if j == 0:\n",
    "            # Surface layer with solar irradiance and radiation loss\n",
    "            LTK[j] += (A * (irradiance - SIGMA * LTK[j] ** 4) + (LTK[j + 1] - LTK[j]) * BETA) * delta_t / GAMMA\n",
    "        else:\n",
    "            # Intermediate layers with only conduction\n",
    "            LTK[j] += ((LTK[j + 1] - LTK[j]) * BETA + (LTK[j - 1] - LTK[j]) * BETA) * delta_t / GAMMA\n",
    "    return LTK\n",
    "\n",
    "def calculate_radio_brightness_temperature(LTK):\n",
    "    \"\"\"Calculate the radio brightness temperature based on the soil temperature profile.\"\"\"\n",
    "    Tb = T_MEAN  # Initial brightness temperature\n",
    "    for k in range(29, -1, -1):\n",
    "        Tb = ALPHA * Tb + (1 - ALPHA) * LTK[k]\n",
    "    LTK[30] = Tb\n",
    "    return LTK\n",
    "\n",
    "def soilstack(LTK, phase, delta_phase):\n",
    "    \"\"\"Simulate the lunar soil temperature and update brightness temperature.\"\"\"\n",
    "    delta_t = delta_phase * LUNATION_SECONDS / 360\n",
    "    irradiance = calculate_solar_irradiance(phase)\n",
    "    LTK = update_temperature_intermediate_layers(LTK, irradiance, delta_t)\n",
    "    LTK = calculate_radio_brightness_temperature(LTK)\n",
    "    return LTK\n",
    "\n",
    "# Initialize soil temperatures to T_mean (30 soil temperatures, LTK[0] to LTK[29])\n",
    "LTK = [T_MEAN] * 31\n",
    "\n",
    "# Run the lunation and phase loop and write results to a CSV file\n",
    "with open(fname, 'w') as opfile:\n",
    "    for lunation in range(LUNATION_COUNT):\n",
    "        phase = 0.0\n",
    "        while phase <= 360:\n",
    "            # Run temperature update for each phase step\n",
    "            print(f\"Running soilstack for lunation {lunation}, phase {phase} degrees\")\n",
    "            LTK = soilstack(LTK, phase, DELTA_PHASE)\n",
    "            phase += DELTA_PHASE\n",
    "\n",
    "            # Format temperature values for output\n",
    "            temp_values = [f\"{0.1 * int(10 * temp):.1f}\" for temp in LTK]\n",
    "            opstring = f\"{lunation}, {phase:.1f}, \" + \", \".join(temp_values)\n",
    "\n",
    "            # Only output if lunation > 14\n",
    "            if lunation > 14:\n",
    "                print(opstring)\n",
    "                opfile.write(opstring + \"\\n\")\n",
    "\n",
    "print(\"Simulation complete\")\n"
   ]
  }
 ],
 "metadata": {
  "kernelspec": {
   "display_name": "Python 3 (ipykernel)",
   "language": "python",
   "name": "python3"
  },
  "language_info": {
   "codemirror_mode": {
    "name": "ipython",
    "version": 3
   },
   "file_extension": ".py",
   "mimetype": "text/x-python",
   "name": "python",
   "nbconvert_exporter": "python",
   "pygments_lexer": "ipython3",
   "version": "3.11.11"
  }
 },
 "nbformat": 4,
 "nbformat_minor": 5
}
