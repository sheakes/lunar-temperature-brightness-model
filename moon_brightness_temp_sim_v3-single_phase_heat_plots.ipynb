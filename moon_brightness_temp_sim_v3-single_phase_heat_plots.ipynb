{
 "cells": [
  {
   "cell_type": "markdown",
   "id": "9cdb7fc2-9efa-4148-9827-a7bdda9287ec",
   "metadata": {
    "editable": true,
    "slideshow": {
     "slide_type": ""
    },
    "tags": []
   },
   "source": [
    "# Average Lunar Flux Brightness Simulation"
   ]
  },
  {
   "cell_type": "code",
   "execution_count": 1,
   "id": "bd44c3d2-8f58-415e-8752-187a71c8fd80",
   "metadata": {
    "editable": true,
    "slideshow": {
     "slide_type": ""
    },
    "tags": []
   },
   "outputs": [],
   "source": [
    "# import various packages\n",
    "import numpy as np\n",
    "import pandas as pd\n",
    "from tqdm import tqdm\n",
    "# import cupy as cp"
   ]
  },
  {
   "cell_type": "markdown",
   "id": "732da333-75fe-4344-a383-2cff0c1152ae",
   "metadata": {},
   "source": [
    "## Inititalize Facet Regions"
   ]
  },
  {
   "cell_type": "markdown",
   "id": "fe0c7a23-dc02-421b-8526-36c5987e7735",
   "metadata": {},
   "source": [
    "Let's split up the moon into facets along lines of latitude and longitude "
   ]
  },
  {
   "cell_type": "markdown",
   "id": "3f5d2885-149e-463c-9d3d-7a647dcf3798",
   "metadata": {},
   "source": [
    "Only necessary to structure the latitude from 0 to 90 degrees because of the symmetry of the northern/southern hemispheres, will need to multiply the average flux density by 2 at the end of the simulation"
   ]
  },
  {
   "cell_type": "code",
   "execution_count": null,
   "id": "5a468dd8-782d-4945-b0e8-340e1b192f08",
   "metadata": {},
   "outputs": [],
   "source": []
  },
  {
   "cell_type": "markdown",
   "id": "299d443e-cd59-4887-a582-00255a4e3daa",
   "metadata": {},
   "source": [
    "## Measure Facets Areas"
   ]
  },
  {
   "cell_type": "code",
   "execution_count": 2,
   "id": "ac5eb207-b21d-4d19-9b82-ef794e983109",
   "metadata": {},
   "outputs": [],
   "source": [
    "def lunar_facets_areas(moon_radius):\n",
    "    \"\"\"\n",
    "    Generation of facet areas over the surface of the Moon using latitude and longitude arrays.\n",
    "    \n",
    "    - Parameters:\n",
    "        - moon_radius: Radius of the Moon in meters.\n",
    "    \n",
    "    - Returns: facet_areas: 2D array of facet areas (m²) corresponding to each latitude and longitude grid cell.\n",
    "    \"\"\"\n",
    "    # Define ranges for phase, longitude, latitude, and declination\n",
    "    # phase_array = np.arange(0, 360, dtype = np.int16) # angular positions of the sun overhead w.r.t latitude = 0, longitude = 0 position\n",
    "    longitude_array= np.arange(-180, 181)#, dtype = np.int16)  # setting longitude range in degrees\n",
    "    latitude_array = np.arange(0, 91)#, dtype = np.int16)  # setting latitude range in degrees, (0,90 exclusive) I'm considering the centre point of each facet\n",
    "    \n",
    "    # Convert latitude and longitude arrays from degrees to radians\n",
    "    latitudes = np.radians(latitude_array)\n",
    "    longitudes = np.radians(longitude_array)\n",
    " \n",
    "    # Compute the areas of the facets\n",
    "    facet_areas = (moon_radius**2) * np.abs(-1* np.sin(latitudes[np.newaxis, 1:]) + np.sin(latitudes[np.newaxis, :-1])) * (longitudes[1:, np.newaxis] - longitudes[:-1, np.newaxis])\n",
    "    \n",
    "    return facet_areas"
   ]
  },
  {
   "cell_type": "markdown",
   "id": "fe99758a-9fb1-4141-9719-8dfddb8a4ef4",
   "metadata": {},
   "source": [
    "### Test of generate_moon_facets_areas\n",
    "If the radius is 1 the sum of all facet areas should be 2pi for a hemisphere"
   ]
  },
  {
   "cell_type": "code",
   "execution_count": 3,
   "id": "c09d5b4c-4663-47b6-b1f8-85bc38a62f72",
   "metadata": {},
   "outputs": [
    {
     "name": "stdout",
     "output_type": "stream",
     "text": [
      "shape =  (360, 90) area of surface =  6.283185307179586 , Difference: 2pi - area_of_facets =  0.0\n"
     ]
    }
   ],
   "source": [
    "moon_radius_test = 1  # Radius of the Moon in meters\n",
    "area_of_facets_test = lunar_facets_areas(moon_radius_test)\n",
    "print('shape = ', area_of_facets_test.shape, 'area of surface = ' , np.sum(area_of_facets_test), ', Difference: 2pi - area_of_facets = ', 2 * np.pi - np.sum(area_of_facets_test))"
   ]
  },
  {
   "cell_type": "markdown",
   "id": "3ae12729-64d7-458e-bdcf-beba5904a032",
   "metadata": {},
   "source": [
    "### Implement the funciton with the radius of the Moon in meters"
   ]
  },
  {
   "cell_type": "code",
   "execution_count": 4,
   "id": "5d890a18-cba2-4bf6-aba3-8ba6d8b94f4d",
   "metadata": {},
   "outputs": [],
   "source": [
    "moon_radius = 1.737e6  # Radius of the Moon in meters\n",
    "area_of_facets = lunar_facets_areas(moon_radius)"
   ]
  },
  {
   "cell_type": "code",
   "execution_count": 5,
   "id": "46473022-790c-489c-9131-e2293624564e",
   "metadata": {},
   "outputs": [
    {
     "data": {
      "text/plain": [
       "(np.float64(0.0), np.float64(0.0))"
      ]
     },
     "execution_count": 5,
     "metadata": {},
     "output_type": "execute_result"
    }
   ],
   "source": [
    "np.abs(2*np.pi*moon_radius**2 - np.sum(area_of_facets)), np.sqrt(np.abs(2*np.pi*moon_radius**2 - np.sum(area_of_facets)))"
   ]
  },
  {
   "cell_type": "markdown",
   "id": "6ac264ad-6b77-4897-af4f-29bbccc567cb",
   "metadata": {},
   "source": [
    "The area is off by a bit, how much? a grid approximately 257 m * 257 m in area, I think thats acceptable."
   ]
  },
  {
   "cell_type": "markdown",
   "id": "ebad241b-35b9-4706-84e6-611cc6bc33fb",
   "metadata": {},
   "source": [
    "## Solar Zenith Angle for Phase cycle"
   ]
  },
  {
   "cell_type": "code",
   "execution_count": 6,
   "id": "20bd09bd-3101-4d39-82c2-a4d17c88c653",
   "metadata": {},
   "outputs": [],
   "source": [
    "# def calculate_zenith_angle(phase, latitude, longitude, declination):\n",
    "#     \"\"\"\n",
    "#     Vectorized calculation of the zenith angle on each facet of lat, lon.\n",
    "#     - Parameters: \n",
    "#         - Latitude: a numpy array of latitudes\n",
    "#         - Longutide: a numpy array of longitudes\n",
    "#         - Phase: a numpy array of phases\n",
    "#     - Returns: Outputs a 3D array of zenith angles with shape (360, 360, 91)\n",
    "#     \"\"\"\n",
    "#     # Convert angles from degrees to radians for numpy trigonometric functions\n",
    "#     phase_rad = np.radians(phase)[:, np.newaxis, np.newaxis]  # shape (360, 1, 1)\n",
    "#     longitude_rad = np.radians(longitude)[np.newaxis, :, np.newaxis]  # shape (1, 360, 1)\n",
    "#     latitude_rad = np.radians(latitude)[np.newaxis, np.newaxis, :]  # shape (1, 1, 91)\n",
    "#     declination_rad = np.radians(declination)\n",
    "\n",
    "#     # Calculate the zenith angle for all combinations of phase, lon, and lat\n",
    "#     zenith_angle_array = np.arccos(\n",
    "#         np.sin(declination_rad) * np.sin(latitude_rad)\n",
    "#         + np.cos(declination_rad) * np.cos(latitude_rad)\n",
    "#         * np.cos(longitude_rad - phase_rad)\n",
    "#     )\n",
    "\n",
    "#     return zenith_angle_array"
   ]
  },
  {
   "cell_type": "code",
   "execution_count": 7,
   "id": "2d0e393f-5deb-4c01-ae3f-24aac0fd85e1",
   "metadata": {},
   "outputs": [],
   "source": [
    "def calculate_zenith_angle():\n",
    "    \"\"\"\n",
    "    Vectorized calculation of the zenith angle on each facet of lat, lon.\n",
    "    - Parameters: \n",
    "        - Latitude: a numpy array of latitudes\n",
    "        - Longutide: a numpy array of longitudes\n",
    "        - Phase: a numpy array of phases\n",
    "    - Returns: Outputs a 3D array of zenith angles with shape (360, 360, 91)\n",
    "    \"\"\"\n",
    "    longitude_edges = np.arange(-180, 180)# setting longitude range in degrees\n",
    "    latitude_edges = np.arange(0, 90)\n",
    "    declination = 0\n",
    "    # setting latitude range in degrees, (0,90 exclusive) I'm considering the centre point of each facet\n",
    "    \n",
    "    # Convert angles from degrees to radians for numpy trigonometric functions\n",
    "    # phase_rad = np.radians(phase)[:, np.newaxis, np.newaxis]  # shape (360, 1, 1)\n",
    "    longitude_rad = np.radians(longitude_edges)[:, np.newaxis]  # shape (1, 360, 1)\n",
    "    latitude_rad = np.radians(latitude_edges)[np.newaxis, :]  # shape (1, 1, 91)\n",
    "    declination_rad = np.radians(declination)\n",
    "\n",
    "    # Calculate the zenith angle for all combinations of phase, lon, and lat\n",
    "    zenith_angle_array = np.arccos(\n",
    "        np.sin(declination_rad) * np.sin(latitude_rad)\n",
    "        + np.cos(declination_rad) * np.cos(latitude_rad)\n",
    "        * np.cos(longitude_rad)\n",
    "    )\n",
    "\n",
    "    return zenith_angle_array"
   ]
  },
  {
   "cell_type": "code",
   "execution_count": 8,
   "id": "0d325566-c62c-48fc-a913-5c325e454b32",
   "metadata": {
    "tags": []
   },
   "outputs": [
    {
     "name": "stdout",
     "output_type": "stream",
     "text": [
      "(360, 90)\n"
     ]
    }
   ],
   "source": [
    "# Call the function\n",
    "zenith_angle_array = calculate_zenith_angle()\n",
    "\n",
    "# check the shape\n",
    "print(zenith_angle_array.shape)"
   ]
  },
  {
   "cell_type": "code",
   "execution_count": 9,
   "id": "32912b7e-ad3c-4bcf-9817-cd5d12e59eb2",
   "metadata": {},
   "outputs": [
    {
     "data": {
      "text/plain": [
       "array([0.        , 0.01745329, 0.03490659, 0.05235988, 0.06981317,\n",
       "       0.08726646, 0.10471976, 0.12217305, 0.13962634, 0.15707963,\n",
       "       0.17453293, 0.19198622, 0.20943951, 0.2268928 , 0.2443461 ,\n",
       "       0.26179939, 0.27925268, 0.29670597, 0.31415927, 0.33161256,\n",
       "       0.34906585, 0.36651914, 0.38397244, 0.40142573, 0.41887902,\n",
       "       0.43633231, 0.45378561, 0.4712389 , 0.48869219, 0.50614548,\n",
       "       0.52359878, 0.54105207, 0.55850536, 0.57595865, 0.59341195,\n",
       "       0.61086524, 0.62831853, 0.64577182, 0.66322512, 0.68067841,\n",
       "       0.6981317 , 0.71558499, 0.73303829, 0.75049158, 0.76794487,\n",
       "       0.78539816, 0.80285146, 0.82030475, 0.83775804, 0.85521133,\n",
       "       0.87266463, 0.89011792, 0.90757121, 0.9250245 , 0.9424778 ,\n",
       "       0.95993109, 0.97738438, 0.99483767, 1.01229097, 1.02974426,\n",
       "       1.04719755, 1.06465084, 1.08210414, 1.09955743, 1.11701072,\n",
       "       1.13446401, 1.15191731, 1.1693706 , 1.18682389, 1.20427718,\n",
       "       1.22173048, 1.23918377, 1.25663706, 1.27409035, 1.29154365,\n",
       "       1.30899694, 1.32645023, 1.34390352, 1.36135682, 1.37881011,\n",
       "       1.3962634 , 1.41371669, 1.43116999, 1.44862328, 1.46607657,\n",
       "       1.48352986, 1.50098316, 1.51843645, 1.53588974, 1.55334303])"
      ]
     },
     "execution_count": 9,
     "metadata": {},
     "output_type": "execute_result"
    }
   ],
   "source": [
    "zenith_angle_array[180,:]"
   ]
  },
  {
   "cell_type": "markdown",
   "id": "96904bf8-c655-4c29-8434-51b26a0e7350",
   "metadata": {
    "tags": []
   },
   "source": [
    "#### zenith_angle sanity checks"
   ]
  },
  {
   "cell_type": "code",
   "execution_count": 10,
   "id": "67560c9b-7d3c-4ad3-8ce7-17c83b8b6413",
   "metadata": {
    "scrolled": true
   },
   "outputs": [],
   "source": [
    "# np.degrees(zenith_angle_array[0,180,:]) \n",
    "# sanity check for what the latitude angles would look like for a sub solar position at theta = 0, longitude, = 0, and phase = 0"
   ]
  },
  {
   "cell_type": "code",
   "execution_count": 11,
   "id": "5505d00d-207a-417c-b8a5-1b7b31417529",
   "metadata": {
    "scrolled": true
   },
   "outputs": [],
   "source": [
    "# np.degrees(zenith_angle_array[0,225,:]) \n",
    "# sanity check for what the latitude angles would look like for longitude = 45, and phase = 0"
   ]
  },
  {
   "cell_type": "code",
   "execution_count": 12,
   "id": "f0f5cc0f-deff-429e-b2c4-5432a9cad2dc",
   "metadata": {},
   "outputs": [],
   "source": [
    "# np.degrees(zenith_angle_array[45,225,:]) \n",
    "# sanity check for what the latitude angles would look like for longitude = 45, and phase = 45"
   ]
  },
  {
   "cell_type": "code",
   "execution_count": 13,
   "id": "09204aa3-0f8d-484e-a5c1-58231080629e",
   "metadata": {},
   "outputs": [],
   "source": [
    "# np.degrees(zenith_angle_array[0,270,:]) \n",
    "# sanity check for what the latitude angles would look like for longitude = 90, and phase = 0"
   ]
  },
  {
   "cell_type": "code",
   "execution_count": 14,
   "id": "fffa9f4d-3750-4fb5-b363-884911e93a7f",
   "metadata": {},
   "outputs": [],
   "source": [
    "# np.degrees(zenith_angle_array[0,0,:]) \n",
    "# sanity check for what the latitude angles would look like for longitude = 0, and phase = 0"
   ]
  },
  {
   "cell_type": "code",
   "execution_count": 15,
   "id": "7d1f05fa-569f-46e4-bd47-b8fc6e5d4750",
   "metadata": {},
   "outputs": [],
   "source": [
    "# vector_zenith_angle_array = vector_calculate_zenith_angle(phase_array,\n",
    "#                                                           latitude_array,\n",
    "#                                                           longitude_array,\n",
    "#                                                           declination)\n",
    "# zenith_angle_array.shape # checking shape"
   ]
  },
  {
   "cell_type": "code",
   "execution_count": 16,
   "id": "b4bee4d3-e3a1-4711-be60-64a603cb2293",
   "metadata": {},
   "outputs": [],
   "source": [
    "# np.sum(vector_zenith_angle_array) == np.sum(zenith_angle_array) \n",
    "# because they are the essentially the same function, they should result in the same sum of angles"
   ]
  },
  {
   "cell_type": "code",
   "execution_count": 17,
   "id": "525a9635-a73f-4134-adb9-aeb6c7839391",
   "metadata": {},
   "outputs": [],
   "source": [
    "# zenith_angle_array[1,:,:].shape"
   ]
  },
  {
   "cell_type": "code",
   "execution_count": null,
   "id": "e3334eae-03bb-4034-add0-63ea82e4ad0d",
   "metadata": {},
   "outputs": [],
   "source": []
  },
  {
   "cell_type": "markdown",
   "id": "5d328692-cbdc-4558-8610-f2ceb5be9c47",
   "metadata": {},
   "source": [
    "## Calculate Heat Input"
   ]
  },
  {
   "cell_type": "code",
   "execution_count": 18,
   "id": "611f489d-fa5b-4248-b1f7-2b53eadb014c",
   "metadata": {},
   "outputs": [],
   "source": [
    "# def flux_input_func(W_0, zenith_angle_array, albedo, phase_step):\n",
    "#     \"\"\"\n",
    "#     - Parameters:\n",
    "#         - W_0: energy flux W / m**2\n",
    "#         - zenith_angle_array: array of incident vector angle w.r.t sun\n",
    "#         - albedo: Lunar Albedo\n",
    "#         - phase_step: phase ranges from [0,360) degrees\n",
    "    \n",
    "#     -Return: the flux input from the Sun. The time is indexed in degrees of phase, which allows isolating the values\n",
    "#     of latitude and longitude at that specific phase.\n",
    "#     \"\"\"\n",
    "#     # Calculate the heat input based on the zenith angle\n",
    "#     W_t = W_0 * np.clip(np.cos(zenith_angle_array[phase_step, :, :]), 0, None) * (1 - albedo)\n",
    "#     # the clip returns a 0 for any values less than 0 resulting from an angle greater than 90 degrees\n",
    "#     # this way no negative heat is introduced.\n",
    "    \n",
    "#     return W_t\n",
    "               \n"
   ]
  },
  {
   "cell_type": "code",
   "execution_count": 19,
   "id": "b9a0ad1c-f4dd-4337-a369-206e7de7790a",
   "metadata": {},
   "outputs": [],
   "source": [
    "def flux_input_func(W_0, zenith_angle_array, albedo):\n",
    "    \"\"\"\n",
    "    - Parameters:\n",
    "        - W_0: energy flux W / m**2\n",
    "        - zenith_angle_array: array of incident vector angle w.r.t sun\n",
    "        - albedo: Lunar Albedo\n",
    "    \n",
    "    -Return: the flux input from the Sun. The time is indexed in degrees of phase, which allows isolating the values\n",
    "    of latitude and longitude at that specific phase.\n",
    "    \"\"\"\n",
    "    # Calculate the heat input based on the zenith angle\n",
    "    W_t = W_0 * np.clip(np.cos(zenith_angle_array), 0, None) * (1 - albedo)\n",
    "\n",
    "    # W/m^2 = W/m^2 * C * C\n",
    "    # the clip returns a 0 for any values less than 0 resulting from an angle greater than 90 degrees\n",
    "    # this way no negative heat is introduced.\n",
    "    \n",
    "    return W_t\n",
    "               \n"
   ]
  },
  {
   "cell_type": "markdown",
   "id": "125f5744-acd3-4f3b-83c5-128b3bae43bc",
   "metadata": {},
   "source": [
    "#### Solar Irradiance Test"
   ]
  },
  {
   "cell_type": "code",
   "execution_count": 20,
   "id": "1907d62e-a426-49d4-a106-1eb0b8713f9e",
   "metadata": {
    "editable": true,
    "slideshow": {
     "slide_type": ""
    },
    "tags": []
   },
   "outputs": [],
   "source": [
    "W_0 = 1365.0 # Solar irradiance in W.m-2, the energy flux arriving from the Sun\n",
    "albedo = 0.15 # the lunar albedo\n",
    "phase_step = 0 # One degree in phase corresponds to 6700 seconds, phase ranges from [0,360) degrees\n",
    "                # corresponds to [0, 2,405,300 seconds), [0, 668 hours), [0,27.8 days) phase_step inputs must be integers\n",
    "\n",
    "flux_input_array = flux_input_func(W_0, \n",
    "                                   zenith_angle_array, \n",
    "                                   albedo)"
   ]
  },
  {
   "cell_type": "code",
   "execution_count": 21,
   "id": "6f8dc3b0-6de9-4ec6-ad32-6158633c0394",
   "metadata": {
    "tags": []
   },
   "outputs": [
    {
     "data": {
      "text/plain": [
       "(360, 90)"
      ]
     },
     "execution_count": 21,
     "metadata": {},
     "output_type": "execute_result"
    }
   ],
   "source": [
    "# shape check\n",
    "flux_input_array.shape\n",
    "# type(flux_input_array[0][0])"
   ]
  },
  {
   "cell_type": "code",
   "execution_count": 22,
   "id": "3630add7-39f5-4cf8-94ad-2ef279cba5ca",
   "metadata": {
    "editable": true,
    "scrolled": true,
    "slideshow": {
     "slide_type": ""
    },
    "tags": []
   },
   "outputs": [
    {
     "name": "stdout",
     "output_type": "stream",
     "text": [
      "function output 1160.25 manual calculation 1160.25\n"
     ]
    }
   ],
   "source": [
    "# verify that its matching the expected value\n",
    "print('function output', flux_input_array[180,:][0], 'manual calculation', (1-albedo) * 1365)\n",
    "# sanity check for when longitude = 0, latitude = 0\n",
    "# if time = 0 then subsolar position is theta = 0, longitude = 0"
   ]
  },
  {
   "cell_type": "markdown",
   "id": "6580d84a-3c6b-452a-a210-60dd2a7c6a12",
   "metadata": {},
   "source": [
    "### Test of Lunar Flux"
   ]
  },
  {
   "cell_type": "markdown",
   "id": "98b32026-896b-4da2-9a98-de66f3c13c1e",
   "metadata": {},
   "source": [
    "Combining the functions from flux input and facet areas"
   ]
  },
  {
   "cell_type": "code",
   "execution_count": 23,
   "id": "3dbff62e-809c-4b6d-8129-61dd273e00f1",
   "metadata": {},
   "outputs": [
    {
     "data": {
      "text/plain": [
       "((360, 90), (360, 90))"
      ]
     },
     "execution_count": 23,
     "metadata": {},
     "output_type": "execute_result"
    }
   ],
   "source": [
    "area_of_facets.shape, flux_input_array.shape"
   ]
  },
  {
   "cell_type": "markdown",
   "id": "dcf2363a-0b2d-486a-a408-533116d57980",
   "metadata": {},
   "source": [
    "If we are instead interested in the centres of the facets, the flux input needs its ends trimed off the last values in the longitude and latitude values"
   ]
  },
  {
   "cell_type": "code",
   "execution_count": 24,
   "id": "1ba30143-e380-4ffe-b634-58bc6955003b",
   "metadata": {},
   "outputs": [],
   "source": [
    "lunar_total_flux = area_of_facets * flux_input_array"
   ]
  },
  {
   "cell_type": "code",
   "execution_count": 25,
   "id": "3053c161-2944-4edf-8530-b3e4037fc301",
   "metadata": {},
   "outputs": [],
   "source": [
    "# # test of the 0 longitude positions\n",
    "# lunar_total_flux[180]"
   ]
  },
  {
   "cell_type": "code",
   "execution_count": 26,
   "id": "89682299-a40e-46ee-afc2-3f88da2ba8e1",
   "metadata": {},
   "outputs": [
    {
     "data": {
      "text/plain": [
       "np.float64(5528970460889822.0)"
      ]
     },
     "execution_count": 26,
     "metadata": {},
     "output_type": "execute_result"
    }
   ],
   "source": [
    "np.sum(lunar_total_flux)"
   ]
  },
  {
   "cell_type": "markdown",
   "id": "91d9d173-1493-4759-b641-f116561a29ca",
   "metadata": {},
   "source": [
    "## Define Thermal Energy Tranfer Functions"
   ]
  },
  {
   "cell_type": "code",
   "execution_count": 27,
   "id": "3f318d55-7e0f-4dd0-a1c6-aebcfc513c3f",
   "metadata": {
    "tags": []
   },
   "outputs": [],
   "source": [
    "def rate_of_change_surface_thermal_energy_func(flux_input_array, area_of_facets, T_0, T_1, sigma, BasCond, tau):\n",
    "    \"\"\"\n",
    "    A function to calculate the rate of change of thermal energy at the surface \n",
    "    - Parameter: \n",
    "        - heat_input_array: a multi-dimensional array\n",
    "        - area_of_facets: area of each surface m^2\n",
    "        - T_0: temperatue at surface position [K]\n",
    "        - T_1: temperature at depth below surface [K]\n",
    "        - sigma: Stefan's constant 5.67e-8 (W/m²K⁴)\n",
    "        - BasCond: Basalt conductivity in (W/m/K)\n",
    "        - tau: 0.01, is the thickness of the slice [m]\n",
    "        \n",
    "    -Return: A scalar value of the rate of change of thermal energy of the surface layer\n",
    "    \"\"\"\n",
    "    # previous version\n",
    "    # dQ0_dt = heat_input_array - sigma * T_0**4 + (T_1 - T_0) / R \n",
    "\n",
    "    # Ken's Version\n",
    "    # LTK[j] =  LTK[j] + (A*(I - sigma*LTK[j]**4) + (LTK[j+1] - LTK[j])*beta)*delta_t/gamma        \n",
    "\n",
    "    dQ0_dt = (area_of_facets * (flux_input_array - sigma * T_0**4)) + ((T_1 - T_0) * BasCond * (area_of_facets/tau))\n",
    "    # W = (m^2 * ( W/m^2 - W/m^2/K^4 * K^4)) + ((K - K) * W/m/K * (m^2/m))\n",
    "    \n",
    "    return dQ0_dt"
   ]
  },
  {
   "cell_type": "code",
   "execution_count": 28,
   "id": "9244822e-d06b-4400-8f5a-30d3731ee39f",
   "metadata": {
    "tags": []
   },
   "outputs": [],
   "source": [
    "def rate_of_change_intermediate_thermal_energy_func(T_np1, T_n, T_nm1, BasCond, area_of_facets, tau):\n",
    "    \"\"\"\n",
    "    A function to calculate the rate of change of thermal energy in the intermediate layers\n",
    "    - Parameter: \n",
    "        - T_nm1: Previous Layer (T_n-1)\n",
    "        - T_np1: Next Layer (T_n+1)\n",
    "        - T_n: Layer being evaluated\n",
    "        - tau: dz or thickness of layer [m]\n",
    "        - BasCond: Basalt conductivity in W/m/K\n",
    "        - area_of_facets: surface area [m^2]\n",
    "        \n",
    "        \n",
    "    -Return: A scalar value of the rate of change of thermal energy of the surface layer applied to each element for which there \n",
    "    \"\"\"\n",
    "    # previous version\n",
    "    # dQn_dt = ((T_np1 - T_n) / R) + ((T_nm1 - T_n) / R)\n",
    "\n",
    "    # Ken's Version from moon_temp_model\n",
    "    # LTK[j] = LTK[j] + ((LTK[j+1]-LTK[j])*beta + (LTK[j-1] - LTK[j])*beta)*delta_t/gamma \n",
    "    # print(\"(T_np1 - T_n)\",(T_np1 - T_n), \"(T_nm1 - T_n)\",(T_nm1 - T_n))\n",
    "    # dQn_dt = area_of_facets * (((T_np1 - T_n) + (T_nm1 - T_n)) * BasCond * (area_of_facets/tau))\n",
    "    # W = m^2 * (((K - K) + (K - K)) * (W/m^3/K * m^2/m)\n",
    "\n",
    "    \n",
    "    dQn_dt = (((T_np1 - T_n) + (T_nm1 - T_n)) * (BasCond * area_of_facets/tau))\n",
    "    # W/m^2 = (((K - K) + (K - K)) * (W/m^3/K * m^2/m)\n",
    "\n",
    "\n",
    "    \n",
    "    return dQn_dt"
   ]
  },
  {
   "cell_type": "code",
   "execution_count": 29,
   "id": "b56fffa3-4e63-4305-ac1d-07eb4a6b5de5",
   "metadata": {
    "tags": []
   },
   "outputs": [],
   "source": [
    "def rate_of_change_final_thermal_energy_func(T_const, T_f, T_nm1, BasCond, area_of_facets, tau):\n",
    "    \"\"\"\n",
    "    The rate of change of thermal energy at the final depth \n",
    "    - Parameter: \n",
    "        - T_nm1: Previous Layer (T_n-1) [K]\n",
    "        - T_const: The temperature below the layers being evaluated, a constant value [K]\n",
    "        - T_f: The final layer being evaluated that between the previous layer and the T_constant layer [K]\n",
    "        - BasCond: Basalt conductivity in W/m/K\n",
    "        - area_of_facets: area of the evalulated facet in m^2\n",
    "        - \n",
    "    -Return: A scalar value of the rate of change of thermal energy of the surface layer applied to each element for which there \n",
    "\n",
    "    \"\"\"\n",
    "    dQf_dt = (((T_const - T_f) + (T_nm1 - T_f)) * (BasCond * area_of_facets/tau))\n",
    "\n",
    "    # W = (((K - K) + (K - K) * ( W/m/K * m^2/m)\n",
    "    \n",
    "    return dQf_dt"
   ]
  },
  {
   "cell_type": "code",
   "execution_count": 30,
   "id": "beb368aa-64b1-48b6-8a6a-8e2df85cf763",
   "metadata": {},
   "outputs": [],
   "source": [
    "# New Version\n",
    "def thermal_capacitance(BasCap, area, tau, density):\n",
    "    \"\"\"\n",
    "    Calculation of the thermal capacitance\n",
    "    - Parameters:\n",
    "        - BasCap: Basalt thermal capacity in J Kg-1.K-1 \n",
    "        - area: is the area of the slice of material, passed as an array of area's\n",
    "        - tau: 0.01, is the thickness of the slice [m]\n",
    "        - density: 1500.0, Lunar regolith density in Kg.m-3\n",
    "    - Return: gamma, thermal capacitance [J/K]\n",
    "    \"\"\"\n",
    "    gamma = BasCap * area * tau * density # J/K = J/kg/K * m^2 * m * kg/ m^3\n",
    "    \n",
    "    return gamma"
   ]
  },
  {
   "cell_type": "markdown",
   "id": "16e32d30-294d-4b03-9b77-b865008c0d49",
   "metadata": {},
   "source": [
    "## Develop the Heat Transfer Model"
   ]
  },
  {
   "cell_type": "code",
   "execution_count": 31,
   "id": "436553e8-f9f4-4efc-8fb1-e919a2030f1f",
   "metadata": {
    "jupyter": {
     "source_hidden": true
    },
    "tags": []
   },
   "outputs": [],
   "source": [
    "# # Heat transfer model function\n",
    "# def heat_transfer_model_func(heat_transfer_array, W_0, albedo, T_const, BasCap, area_of_facets, tau, rho, delta_t, model_run_time):\n",
    "#     \"\"\"\n",
    "#     Heat transfer model to update temperature in each layer over time.\n",
    "\n",
    "#     Parameters:\n",
    "#     - heat_transfer_array: 3D NumPy array representing solar flux with dependance on incident angle\n",
    "#     - W_0: Energy flux arriving from the Sun\n",
    "#     - albedo: Albedo (reflectivity) of the surface\n",
    "#     - T_const: Constant temperature for the final boundary condition\n",
    "#     - R: Thermal resistance between layers\n",
    "#     - beta\n",
    "#     - area\n",
    "#     - tau\n",
    "#     - delta_t: Time step for updating temperatures\n",
    "#     - model_run_time: Total simulation time in seconds\n",
    "\n",
    "#     Returns:\n",
    "#     - Updated heat_transfer_array with new temperatures for each layer.\n",
    "#     \"\"\"\n",
    "#     phase_step = 0\n",
    "    \n",
    "#     for second in range(0, model_run_time, delta_t): # range(start,stop,step)\n",
    "        \n",
    "#         # Step 1: Initialize Thermal Capacitance\n",
    "#         gamma = thermal_capacitance(BasCap, area_of_facets, tau, rho)\n",
    "\n",
    "        \n",
    "#         # Step 2: Update the surface layer (T_0)\n",
    "#         T_0 = heat_transfer_array[phase_step,:,:,0]\n",
    "#         T_1 = heat_transfer_array[phase_step,:,:,1]\n",
    "#         W_t = flux_input_func(W_0, zenith_angle_array, albedo, phase_step)\n",
    "#         dQ0_dt = rate_of_change_surface_thermal_energy_func(W_t[:-1,:-1], area_of_facets, T_0, T_1, sigma, BasCond, tau)\n",
    "#         T_0 += dQ0_dt * delta_t / gamma\n",
    "\n",
    "\n",
    "#         # Step 3: Update intermediate layers\n",
    "#         T_n = heat_transfer_array[phase_step,:,:,1:-1]  # All intermediate layers\n",
    "#         T_np1 = heat_transfer_array[phase_step,:,:,2:]  # Next layer in each direction\n",
    "#         T_nm1 = heat_transfer_array[phase_step,:,:,:-2]  # Previous layer in each direction\n",
    "#         dQn_dt = rate_of_change_intermediate_thermal_energy_func(T_np1, T_n, T_nm1, BasCond, area_of_facets[:,:,np.newaxis], tau)\n",
    "#         T_n += dQn_dt * delta_t / gamma[:,:,np.newaxis]\n",
    "\n",
    "#         # Step 4: Update the final layer (T_f)\n",
    "#         T_f = heat_transfer_array[phase_step,:,:,-1]\n",
    "#         T_fm1 = heat_transfer_array[phase_step,:,:,-2]\n",
    "#         T_nm1 = T_nm1[:,:,-1]\n",
    "#         dQf_dt = rate_of_change_final_thermal_energy_func(T_const, T_f, T_nm1, BasCond, area_of_facets, tau)\n",
    "#         T_f += dQf_dt * delta_t / gamma\n",
    "\n",
    "#         # Step 5: Update the heat transfer array with new temperatures\n",
    "#         heat_transfer_array[phase_step,:,:,0] = T_0\n",
    "#         heat_transfer_array[phase_step,:,:,1:-1] = T_n\n",
    "#         heat_transfer_array[phase_step,:,:,-1] = T_f\n",
    "\n",
    "#         # uncomment for diagnosing\n",
    "#         # print(f\"At second {second}: T_0 = {T_0}, T_1 = {T_1}, W_t = {W_t}, dQ0_dt = {dQ0_dt}\")\n",
    "#             # Independent phase_step increment based on the condition\n",
    "#         # if second % 6700 == 0:\n",
    "#         #     phase_step += 1\n",
    "#     return heat_transfer_array\n"
   ]
  },
  {
   "cell_type": "raw",
   "id": "d28be4ea-46e5-45c5-889a-0cb10bca016b",
   "metadata": {
    "jupyter": {
     "source_hidden": true
    },
    "tags": []
   },
   "source": [
    "# Correct version\n",
    "def heat_transfer_model_func(heat_transfer_array, W_0, albedo, T_const, BasCap, area_of_facets, tau, rho, delta_t, model_run_time):\n",
    "    \"\"\"\n",
    "    Heat transfer model to update temperature in each layer over time.\n",
    "\n",
    "    Parameters:\n",
    "    - heat_transfer_array: 3D NumPy array representing solar flux with dependance on incident angle\n",
    "    - W_0: Energy flux arriving from the Sun\n",
    "    - albedo: Albedo (reflectivity) of the surface\n",
    "    - T_const: Constant temperature for the final boundary condition\n",
    "    - R: Thermal resistance between layers\n",
    "    - beta\n",
    "    - area\n",
    "    - tau\n",
    "    - delta_t: Time step for updating temperatures\n",
    "    - model_run_time: Total simulation time in seconds\n",
    "\n",
    "    Returns:\n",
    "    - Updated heat_transfer_array with new temperatures for each layer.\n",
    "    \"\"\"\n",
    "    \n",
    "    for second in range(0, model_run_time, delta_t): # range(start,stop,step)\n",
    "        \n",
    "        # Step 1: Initialize Thermal Capacitance\n",
    "        gamma = thermal_capacitance(BasCap, area_of_facets, tau, rho)#.astype(np.float64)\n",
    "\n",
    "        \n",
    "        # Step 2: Update the surface layer (T_0)\n",
    "        T_0 = heat_transfer_array[:,:,0] # (longitude, latitude, depth)\n",
    "        print('T_0', T_0)\n",
    "        T_1 = heat_transfer_array[:,:,1]\n",
    "        print('T_1', T_1)\n",
    "\n",
    "        W_t = flux_input_func(W_0, zenith_angle_array, albedo) # (longitude, latitude)/(361, 91) flux as a f() of irradiance, sza, albedo\n",
    "        # remove last values of W_t\n",
    "        print('W_t',W_t)\n",
    "        dQ0_dt = rate_of_change_surface_thermal_energy_func(W_t[:-1,:-1], area_of_facets, T_0, T_1, sigma, BasCond, tau)\n",
    "        print('dQ0_dt',dQ0_dt)\n",
    "        T_0 += dQ0_dt * delta_t / gamma\n",
    "        print('T_0',T_0)\n",
    "        print('delta_t',delta_t)\n",
    "        print('gamma',gamma)\n",
    "\n",
    "        # Step 3: Update intermediate layers\n",
    "        T_n = heat_transfer_array[:,:,1:-1]  # All intermediate layers\n",
    "        # print('T_n', T_n)\n",
    "        T_np1 = heat_transfer_array[:,:,2:]  # Next layer in each direction\n",
    "        # print('T_np1',T_np1)\n",
    "        T_nm1 = heat_transfer_array[:,:,:-2]  # Previous layer in each direction\n",
    "        # print('T_nm1',T_nm1)\n",
    "        dQn_dt = rate_of_change_intermediate_thermal_energy_func(T_np1, T_n, T_nm1, BasCond, area_of_facets[:,:,np.newaxis], tau)\n",
    "        # print('dQn_dt',dQn_dt)\n",
    "        T_n += dQn_dt * delta_t / gamma[:,:,np.newaxis]\n",
    "        # print('T_n',T_n)\n",
    "        \n",
    "\n",
    "        # Step 4: Update the final layer (T_f)\n",
    "        T_f = heat_transfer_array[:,:,-1]\n",
    "        T_fm1 = heat_transfer_array[:,:,-2]\n",
    "        T_nm1 = T_nm1[:,:,-1]\n",
    "        dQf_dt = rate_of_change_final_thermal_energy_func(T_const, T_f, T_nm1, BasCond, area_of_facets, tau)\n",
    "        T_f += dQf_dt * delta_t / gamma\n",
    "\n",
    "        # Step 5: Update the heat transfer array with new temperatures\n",
    "        heat_transfer_array[:,:,0] = T_0\n",
    "        heat_transfer_array[:,:,1:-1] = T_n\n",
    "        heat_transfer_array[:,:,-1] = T_f\n",
    "\n",
    "        # uncomment for diagnosing\n",
    "        # print(f\"At second {second}: T_0 = {T_0}, T_1 = {T_1}, W_t = {W_t}, dQ0_dt = {dQ0_dt}\")\n",
    "            # Independent phase_step increment based on the condition\n",
    "        # if second % 6700 == 0:\n",
    "        #     phase_step += 1\n",
    "    return heat_transfer_array\n"
   ]
  },
  {
   "cell_type": "code",
   "execution_count": 50,
   "id": "fbf8c991-e7ce-4358-bbcf-955462dfa27a",
   "metadata": {
    "tags": []
   },
   "outputs": [],
   "source": [
    "# debugging function\n",
    "def heat_transfer_model_func(heat_transfer_array, W_0, albedo, T_const, BasCap, area_of_facets, tau, rho, delta_t, model_run_time):\n",
    "    \"\"\"\n",
    "    Heat transfer model to update temperature in each layer over time.\n",
    "\n",
    "    Parameters:\n",
    "    - heat_transfer_array: 3D NumPy array representing Temperature of all lunar soil layers [K]\n",
    "    - W_0: Energy flux arriving from the Sun [W/m^2]\n",
    "    - albedo: Albedo (reflectivity) of the surface [unitless]\n",
    "    - T_const: Constant temperature for the final boundary condition [K]\n",
    "    - BasCap: Basalt thermal capacity in J Kg-1.K-1\n",
    "    - area_of_facets: area of the evalulated facet [m^2]\n",
    "    - tau: tau: the thickness of the soil depth [m]\n",
    "    - delta_t: Time step for updating temperatures\n",
    "    - model_run_time: Total simulation time in seconds\n",
    "\n",
    "    Returns:\n",
    "    - heat_transfer_array: 3D numpy array with updated temperatures for each layer over elapsing run time.\n",
    "    \"\"\"\n",
    "    temperature_plotting_array = np.empty(shape = (int(model_run_time/delta_t), 90))\n",
    "    for idx, second in tqdm(enumerate(range(0, model_run_time, delta_t))): # range(start,stop,step)\n",
    "        \n",
    "        # Step 1: Initialize Thermal Capacitance\n",
    "        gamma = thermal_capacitance(BasCap, area_of_facets, tau, rho)#.astype(np.float64)\n",
    "\n",
    "        \n",
    "        # Step 2: Update the surface layer (T_0)\n",
    "        T_0 = heat_transfer_array[:,:,0] # (longitude, latitude, depth)\n",
    "        T_1 = heat_transfer_array[:,:,1]\n",
    "\n",
    "        W_t = flux_input_func(W_0, zenith_angle_array, albedo) # (longitude, latitude)/(361, 91) flux as a f() of irradiance, sza, albedo\n",
    "\n",
    "        dQ0_dt = rate_of_change_surface_thermal_energy_func(W_t, area_of_facets, T_0, T_1, sigma, BasCond, tau)\n",
    "        T_0 += dQ0_dt * delta_t / gamma\n",
    "\n",
    "        # Step 3: Update intermediate layers\n",
    "        T_n = heat_transfer_array[:,:,1:-1]  # All intermediate layers\n",
    "\n",
    "        T_np1 = heat_transfer_array[:,:,2:]  # Next layer in each direction\n",
    "\n",
    "        T_nm1 = heat_transfer_array[:,:,:-2]  # Previous layer in each direction\n",
    "        dQn_dt = rate_of_change_intermediate_thermal_energy_func(T_np1, T_n, T_nm1, BasCond, area_of_facets[:,:,np.newaxis], tau)\n",
    "        T_n += dQn_dt * delta_t / gamma[:,:,np.newaxis]\n",
    "\n",
    "        # Step 4: Update the final layer (T_f)\n",
    "        T_f = heat_transfer_array[:,:,-1]\n",
    "        T_fm1 = heat_transfer_array[:,:,-2]\n",
    "        T_nm1 = T_nm1[:,:,-1]\n",
    "        dQf_dt = rate_of_change_final_thermal_energy_func(T_const, T_f, T_nm1, BasCond, area_of_facets, tau)\n",
    "        T_f += dQf_dt * delta_t / gamma\n",
    "\n",
    "        # Step 5: Update the heat transfer array with new temperatures\n",
    "        heat_transfer_array[:,:,0] = T_0\n",
    "        heat_transfer_array[:,:,1:-1] = T_n\n",
    "        heat_transfer_array[:,:,-1] = T_f\n",
    "\n",
    "        # uncomment for diagnosing\n",
    "        # print(f\"At second {second}: T_0 = {T_0}, T_1 = {T_1}, W_t = {W_t}, dQ0_dt = {dQ0_dt}\")\n",
    "            # Independent phase_step increment based on the condition\n",
    "        # if second % 6700 == 0:\n",
    "        #     phase_step += 1\n",
    "        temperature_plotting_array[idx,:] = heat_transfer_array[180,:,0]\n",
    "    return temperature_plotting_array\n"
   ]
  },
  {
   "cell_type": "markdown",
   "id": "fa667af7-f0cc-4459-b521-273c0e25ab84",
   "metadata": {
    "tags": []
   },
   "source": [
    "## Create the heat transfer array and run function"
   ]
  },
  {
   "cell_type": "code",
   "execution_count": 51,
   "id": "d19fa635-9682-409d-92c5-e8fe247b3b95",
   "metadata": {
    "tags": []
   },
   "outputs": [],
   "source": [
    "# we know the heat_input_array is of the shape (360,91) for which there are 360 phase degree steps.\n",
    "# The full phase model will be of shape (360,360,91) and now we want to add a depth component of 100 layers\n",
    "# This will bring the shape to (360,360,91,100) of which its components are (phase, longitude, latitude, depth)\n",
    "# of which there is one depth for component for each latitude, longitude pair per phase.\n",
    "# This turns out to be 1.1 billion elements, lets instead start with a per phase_step"
   ]
  },
  {
   "cell_type": "code",
   "execution_count": 64,
   "id": "3c03de60-2700-43e0-a28c-5fe740ae3750",
   "metadata": {
    "tags": []
   },
   "outputs": [
    {
     "name": "stderr",
     "output_type": "stream",
     "text": [
      "60it [00:10,  5.93it/s]\n"
     ]
    }
   ],
   "source": [
    "T_const = 225# The initial temperature to which all values are set to initially\n",
    "\n",
    "# creating an array of (longitude, latitude, depth) filled with T_const\n",
    "# Ensure the heat_transfer_array is float64 for floating-point operations\n",
    "# must be run each time to reset the heat_transfer_array \n",
    "heat_transfer_array = np.full((360, 90, 100), T_const).astype(np.float64)\n",
    "\n",
    "# setting various varibles\n",
    "sigma = 5.67e-8  # Stefan-Boltzmann constant (W/m²K⁴)\n",
    "W_0 = 1365.0   # the energy flux arriving from the Sun\n",
    "# BasCond = 1.50e3                 #Basalt conductivity in W.m-3.K-1\n",
    "albedo = 0.15 # lunar albedo\n",
    "BasCap = 670.0 #Basalt thermal capacity in J Kg-1.K-1 \n",
    "rho = 1500 # Lunar regolith density in Kg.m-3\n",
    "BasCond = 0.0093         # Basalt thermal conductivity (W/m·K)\n",
    "\n",
    "tau = 0.01 # tau is the thickness of the slice (meters)\n",
    "delta_t = 60 # time over which each loop calculation is preformed\n",
    "model_run_time = 3600 # simulation run time in seconds\n",
    "\n",
    "# run the function \n",
    "temperature_plotting_array = heat_transfer_model_func(heat_transfer_array, W_0, albedo, T_const, BasCap, area_of_facets, tau, rho, delta_t, model_run_time)"
   ]
  },
  {
   "cell_type": "code",
   "execution_count": 65,
   "id": "c53eb585-e821-47f1-91d4-87a3981fbf9b",
   "metadata": {},
   "outputs": [
    {
     "data": {
      "text/plain": [
       "(60, 90)"
      ]
     },
     "execution_count": 65,
     "metadata": {},
     "output_type": "execute_result"
    }
   ],
   "source": [
    "temperature_plotting_array.shape"
   ]
  },
  {
   "cell_type": "code",
   "execution_count": 66,
   "id": "ac433ee0-5c54-4401-9903-ef38245697e0",
   "metadata": {
    "editable": true,
    "slideshow": {
     "slide_type": ""
    },
    "tags": []
   },
   "outputs": [
    {
     "data": {
      "text/plain": [
       "<matplotlib.legend.Legend at 0x1f8f5ee0a10>"
      ]
     },
     "execution_count": 66,
     "metadata": {},
     "output_type": "execute_result"
    },
    {
     "data": {
      "image/png": "[encoded data removed]",
      "text/plain": [
       "<Figure size 1200x800 with 1 Axes>"
      ]
     },
     "metadata": {},
     "output_type": "display_data"
    }
   ],
   "source": [
    "import matplotlib.pyplot as plt\n",
    "plt.figure(figsize = (12,8))\n",
    "for timestep in range(0, temperature_plotting_array.shape[0], 10):\n",
    "    plt.plot(np.arange(90), temperature_plotting_array[timestep,:], label = f\"{timestep} x 60s\")\n",
    "plt.plot(np.arange(90), 225 * np.cos(np.radians(np.arange(90))), label = \"cosine func\")\n",
    "plt.xlabel(\"Latitude (deg)\")\n",
    "plt.ylabel(\"Temperature (K)\")\n",
    "plt.title(\"Temperature of Surface Layer (T_0) vs Latitude for Lon = 180 (deg)\")\n",
    "plt.legend()"
   ]
  },
  {
   "cell_type": "code",
   "execution_count": null,
   "id": "4bcb0685-b781-432d-a175-f0ee8e806e0e",
   "metadata": {},
   "outputs": [],
   "source": []
  },
  {
   "cell_type": "markdown",
   "id": "fb4b76c2-fcf7-4d0f-82bc-7be18307ac2f",
   "metadata": {
    "tags": []
   },
   "source": [
    "## The Radio Brightness Temperature"
   ]
  },
  {
   "cell_type": "code",
   "execution_count": null,
   "id": "f70ec008-a84d-4167-94c1-293c0cde48ad",
   "metadata": {},
   "outputs": [],
   "source": [
    "def radio_brightness_temp_func(alpha, T_const, heat_transfer_model_array):\n",
    "    \"\"\"\n",
    "    Calculates the radio brightness temperature profile for lunar soil layers.\n",
    "\n",
    "    The brightness temperature (χ) at each layer is computed recursively from bottom\n",
    "    (deepest layer, near constant temperature T_const) to top (surface layer radiating into space),\n",
    "    using a weighted sum of the temperatures of adjacent layers. This reflects the physical process\n",
    "    of thermal emission propagating upward through the regolith.\n",
    "\n",
    "    Formula used (from Lunar Thermal Model documentation):\n",
    "        χ_n = α * χ_(n+1) + (1 - α) * T_n\n",
    "    where:\n",
    "        - χ is the brightness temperature at each layer.\n",
    "        - α is the weighting factor determined by radio-frequency (RF) attenuation properties.\n",
    "        - T_const (T*) is the constant base temperature at the deepest layer.\n",
    "        - T_n is the physical temperature at layer n obtained from heat_transfer_model_array.\n",
    "\n",
    "    Parameters:\n",
    "    ----------\n",
    "    alpha : float\n",
    "        Weighting factor (0 < α < 1) representing RF attenuation between layers. It defines how much\n",
    "        each layer’s brightness temperature is influenced by the layer immediately below it.\n",
    "        A value closer to 1 implies strong dependence on deeper layers, and a smaller value\n",
    "        suggests stronger influence from the immediate physical temperature of the layer.\n",
    "\n",
    "    T_const : float\n",
    "        Constant temperature (Kelvin) at the bottom-most layer of the regolith,\n",
    "        assumed stable (typically ~constant below ~0.8 m depth).\n",
    "\n",
    "    heat_transfer_array : np.ndarray\n",
    "        3D numpy array of shape (latitude, longitude, depth), representing physical temperatures (Kelvin)\n",
    "        at different lunar soil layers for each spatial facet. The depth axis (3rd dimension)\n",
    "        is organized from surface (index 0) to the deepest layer (index -1).\n",
    "\n",
    "    Returns:\n",
    "    --------\n",
    "    chi_0 : np.ndarray\n",
    "        2D array of brightness temperatures (Kelvin) at the lunar surface layer (depth = 0),\n",
    "        representing the radiative temperature emitted into space.\n",
    "\n",
    "    chi_layers : np.ndarray\n",
    "        3D array containing brightness temperatures (Kelvin) for all layers at each facet.\n",
    "        Same shape as heat_transfer_model_array, with the depth axis ordered from surface (index 0)\n",
    "        downwards.\n",
    "    \"\"\"\n",
    "\n",
    "    # Step 1: Get the number of layers (depth is the last axis)\n",
    "    num_layers = heat_transfer_array.shape[2]\n",
    "\n",
    "    # Step 2: Initialize chi array for brightness temperatures\n",
    "    chi_layers = np.zeros_like(heat_transfer_array)\n",
    "\n",
    "    # Step 3: Compute brightness temperature at the bottom layer (deepest)\n",
    "    chi_layers[:, :, -1] = alpha * T_const + (1 - alpha) * heat_transfer_array[:, :, -1]\n",
    "\n",
    "    # Step 4: Recursively calculate brightness temperature upwards through layers\n",
    "    for n in range(num_layers - 2, -1, -1):\n",
    "        chi_layers[:, :, n] = alpha * chi_layers[:, :, n + 1] + (1 - alpha) * heat_transfer_array[:, :, n]\n",
    "\n",
    "    # Step 5: Extract brightness temperature at the surface (top layer)\n",
    "    chi_0 = chi_layers[:, :, 0]\n",
    "\n",
    "    return chi_0, chi_layers\n"
   ]
  },
  {
   "cell_type": "code",
   "execution_count": 97,
   "id": "bfddf763-cf16-4dd9-a175-a4c8a8d6afae",
   "metadata": {},
   "outputs": [
    {
     "data": {
      "text/plain": [
       "np.float64(0.9950124791926823)"
      ]
     },
     "execution_count": 97,
     "metadata": {},
     "output_type": "execute_result"
    }
   ],
   "source": [
    "# rf_absorption_coefficent = 1\n",
    "rf_absorption_coefficent = 0.5\n",
    "delta_z = 0.01\n",
    "alpha = np.exp(-rf_absorption_coefficent * delta_z)  # RF Transmission Coefficient\n",
    "alpha"
   ]
  },
  {
   "cell_type": "code",
   "execution_count": 98,
   "id": "6b61292c-c81e-49cd-adbe-fef38fcabe24",
   "metadata": {},
   "outputs": [],
   "source": [
    "chi_0 , chi_layers = radio_brightness_temp_func(alpha, T_const, heat_transfer_array)"
   ]
  },
  {
   "cell_type": "code",
   "execution_count": 99,
   "id": "fbefcbb9-62a8-4c2f-b02d-ca7688d0b62b",
   "metadata": {},
   "outputs": [
    {
     "data": {
      "text/plain": [
       "((360, 90), (360, 90, 100))"
      ]
     },
     "execution_count": 99,
     "metadata": {},
     "output_type": "execute_result"
    }
   ],
   "source": [
    "chi_0.shape, chi_layers.shape"
   ]
  },
  {
   "cell_type": "code",
   "execution_count": 101,
   "id": "7c64fcfc-de18-4bb9-abd2-0899f0928de7",
   "metadata": {},
   "outputs": [],
   "source": [
    "# chi_0[180,0], chi_layers[180,0]"
   ]
  },
  {
   "cell_type": "markdown",
   "id": "7f297154-a0d8-4d4d-b824-f3ad7b44fca4",
   "metadata": {
    "tags": []
   },
   "source": [
    "## Solid Angle Calculations"
   ]
  },
  {
   "cell_type": "code",
   "execution_count": 102,
   "id": "e826060e-f013-46b0-8a6b-fb7a0093b1f1",
   "metadata": {},
   "outputs": [],
   "source": [
    "moon_radius = 1.737e6  # Radius of the Moon in meters\n",
    "distance_to_earth = 3.844e8  # Average distance from the Moon to Earth in meters"
   ]
  },
  {
   "cell_type": "code",
   "execution_count": 111,
   "id": "b9337d52-be74-4553-b3d8-bbd86b257a3b",
   "metadata": {
    "tags": []
   },
   "outputs": [],
   "source": [
    "def calculate_solid_angles_for_moon(moon_radius, distance_to_earth, area_of_facets):\n",
    "    \"\"\"\n",
    "    Calculates solid angles subtended by lunar facets as viewed from Earth,\n",
    "    accounting for projection (cosine) effects. Only facets facing the Earth are included.\n",
    "\n",
    "    Parameters:\n",
    "    - moon_radius : float\n",
    "        Radius of the Moon in meters.\n",
    "\n",
    "    - distance_to_earth : float\n",
    "        Distance from the Moon to the Earth in meters.\n",
    "\n",
    "    - area_of_facets : np.ndarray\n",
    "        2D array of lunar facet areas (m²) corresponding to latitude (0° to 90°) \n",
    "        and longitude (-180° to 180°). Shape should match the latitude-longitude grid.\n",
    "\n",
    "    Returns:\n",
    "    -------\n",
    "    solid_angles : np.ndarray\n",
    "        2D array (same shape as `area_of_facets`) containing solid angles in steradians.\n",
    "\n",
    "    Notes:\n",
    "    ------\n",
    "    - Solid angle calculation considers both the actual facet area and its geometric projection \n",
    "      relative to Earth's viewing direction.\n",
    "    - Facets not facing Earth (cos(theta) ≤ 0) will have zero solid angle.\n",
    "    - Ensure the longitude ranges from -180° to 180° and latitude from 0° to 90° to \n",
    "      represent one hemisphere. (The other hemisphere can be mirrored.)\n",
    "\n",
    "    Returns:\n",
    "        solid_angles : np.ndarray\n",
    "            2D array of solid angles subtended by each facet (in steradians).\n",
    "    \"\"\"\n",
    "\n",
    "    # Define longitude and latitude ranges (degrees)\n",
    "    longitude_edges = np.arange(-180, 180, 1)  # Longitude from -180° to 180°\n",
    "    latitude_edges = np.arange(0, 90, 1)       # Latitude from equator to pole\n",
    "\n",
    "    # Convert latitude and longitude arrays from degrees to radians\n",
    "    latitudes_rad = np.radians(latitude_edges)\n",
    "    longitudes_rad = np.radians(longitude_edges)\n",
    "\n",
    "    # Create meshgrid for broadcasting\n",
    "    lon_grid, lat_grid = np.meshgrid(longitudes_rad, latitudes_rad)\n",
    "\n",
    "    # Facet normal vectors (in lunar-centric coordinates)\n",
    "    x_facet = np.cos(lat_grid) * np.cos(lon_grid)\n",
    "    y_facet = np.cos(lat_grid) * np.sin(lon_grid)\n",
    "    z_facet = np.sin(lat_grid)\n",
    "\n",
    "    facet_normals = np.stack((x_facet, y_facet, z_facet), axis=-1)\n",
    "\n",
    "    # Vector pointing toward Earth along +x axis\n",
    "    earth_vector = np.array([1, 0, 0])  # assuming Earth is directly aligned along x\n",
    "\n",
    "    # Calculate cos(theta) between Earth and facet normals\n",
    "    cos_theta = np.dot(facet_normals, earth_vector)\n",
    "\n",
    "    # Transpose the array\n",
    "    cos_theta = cos_theta.T\n",
    "\n",
    "    # Only facets facing Earth (cos_theta > 0) contribute\n",
    "    cos_theta = np.clip(cos_theta, 0, 1)\n",
    "\n",
    "    # Calculate solid angles\n",
    "    solid_angles = area_of_facets * cos_theta / (distance_to_earth**2)\n",
    "\n",
    "    return solid_angles"
   ]
  },
  {
   "cell_type": "code",
   "execution_count": 114,
   "id": "22ccd958-fc91-4719-9d22-8e9d60e5cc3d",
   "metadata": {},
   "outputs": [
    {
     "data": {
      "text/plain": [
       "np.float64(6.21964453935845e-09)"
      ]
     },
     "execution_count": 114,
     "metadata": {},
     "output_type": "execute_result"
    }
   ],
   "source": [
    "# Calculate solid angles\n",
    "solid_angles = calculate_solid_angles_for_moon(moon_radius, distance_to_earth, area_of_facets)\n",
    "\n",
    "solid_angles[180,0]\n"
   ]
  },
  {
   "cell_type": "code",
   "execution_count": 138,
   "id": "c99b4268-f846-4a5d-9ccb-18f5ac0fd509",
   "metadata": {},
   "outputs": [
    {
     "data": {
      "text/plain": [
       "np.float64(3.2249718979730945e-05)"
      ]
     },
     "execution_count": 138,
     "metadata": {},
     "output_type": "execute_result"
    }
   ],
   "source": [
    "# Calculate solid angle for the entire visible moon\n",
    "solid_angle_moon = np.sum(calculate_solid_angles_for_moon(moon_radius, distance_to_earth, area_of_facets))\n",
    "solid_angle_moon"
   ]
  },
  {
   "cell_type": "markdown",
   "id": "d0a55bcb-8c41-45d4-b09b-932cd8e0ef21",
   "metadata": {
    "tags": []
   },
   "source": [
    "## The Radio Flux Density"
   ]
  },
  {
   "cell_type": "markdown",
   "id": "5c9924b0-cba6-4e1f-8b1d-b700a454d31c",
   "metadata": {},
   "source": [
    "If Ωj is the solid angle subtended by the jth facet as viewed from the Earth, the contribution to the radio flux density is:"
   ]
  },
  {
   "cell_type": "code",
   "execution_count": 118,
   "id": "2da05997-a4d2-4920-accc-c0ad6bf3b4c8",
   "metadata": {},
   "outputs": [],
   "source": [
    "# Constants\n",
    "k_B = 1.38e-23  # Boltzmann constant in J/K\n",
    "wavelength = 0.21"
   ]
  },
  {
   "cell_type": "code",
   "execution_count": 133,
   "id": "a0910f48-c6ce-409a-9a8c-19205768dd6a",
   "metadata": {},
   "outputs": [],
   "source": [
    "def radio_flux_density(chi_0, solid_angles, wavelength):\n",
    "    \"\"\"\n",
    "    Calculates the total radio flux density emitted by the lunar disc \n",
    "    and the flux density contribution from each individual facet.\n",
    "\n",
    "    The radio flux density (S) at frequency ν (related to wavelength λ by c = νλ) \n",
    "    is computed from brightness temperature (χ₀) and the solid angle subtended by each facet.\n",
    "\n",
    "    Formula:\n",
    "        ΔS_j = (2 k_B χ₀_j / λ²) Ω_j\n",
    "\n",
    "    Parameters:\n",
    "    -----------\n",
    "    chi_0 : np.ndarray\n",
    "        2D array of brightness temperatures (Kelvin) at the lunar surface (top layer),\n",
    "        shape: (latitude, longitude).\n",
    "        \n",
    "    solid_angles : np.ndarray\n",
    "        2D array of solid angles (steradians) subtended by each lunar facet as viewed from Earth.\n",
    "        Same shape as `chi_0`.\n",
    "    \n",
    "    wavelength : float\n",
    "        Wavelength of the observed radio emission (meters).\n",
    "\n",
    "    Returns:\n",
    "    --------\n",
    "    total_flux_density : float\n",
    "        Total radio flux density emitted by the lunar disc (Watts per square meter per Hertz, W·m⁻²·Hz⁻¹).\n",
    "        \n",
    "    delta_S : np.ndarray\n",
    "        2D array of the flux density contribution from each individual facet (W/m²/Hz).\n",
    "        Same shape as `chi_0`.\n",
    "\n",
    "    Notes:\n",
    "    ------\n",
    "    - Boltzmann's constant (k_B ≈ 1.380649 × 10⁻²³ J/K) relates brightness temperature to radiative flux.\n",
    "    - Radio flux density per facet follows the Rayleigh-Jeans approximation:\n",
    "\n",
    "      Delta S = 2 * k_B * chi_0 * Omega/lambda^2\n",
    "\n",
    "    Reference:\n",
    "    ----------\n",
    "    - Radio astronomy fundamentals: [https://science.nrao.edu/opportunities/courses/era/flux-density](https://science.nrao.edu/opportunities/courses/ERA/radioastronomybasics.pdf)\n",
    "    \"\"\"\n",
    "    # Individual flux density contribution (W/m²/Hz)\n",
    "    delta_S = (2 * k_B * chi_0 * solid_angles) / (wavelength**2)\n",
    "\n",
    "    # Total flux density (W/m²/Hz)\n",
    "    total_flux_density = np.sum(delta_S)\n",
    "\n",
    "    return total_flux_density, delta_S\n"
   ]
  },
  {
   "cell_type": "code",
   "execution_count": 134,
   "id": "0da4006a-36ef-44de-906c-9c8248439228",
   "metadata": {},
   "outputs": [],
   "source": [
    "total_flux_density_arr, delta_S = radio_flux_density(chi_0, solid_angles, wavelength)"
   ]
  },
  {
   "cell_type": "code",
   "execution_count": 135,
   "id": "4e387a73-50bc-475a-8554-7ccaf15d3bd2",
   "metadata": {},
   "outputs": [
    {
     "data": {
      "text/plain": [
       "np.float64(4.5530482032302205e-24)"
      ]
     },
     "execution_count": 135,
     "metadata": {},
     "output_type": "execute_result"
    }
   ],
   "source": [
    "total_flux_density_arr"
   ]
  },
  {
   "cell_type": "code",
   "execution_count": 144,
   "id": "fe7ce764-3b5e-4578-b52f-d05471ced9b2",
   "metadata": {},
   "outputs": [],
   "source": [
    "def average_radio_brightness_temperature(total_flux_density, wavelength, solid_angle_moon):\n",
    "    \"\"\"\n",
    "    Calculates the average radio brightness temperature (Kelvin) for the lunar disc \n",
    "    based on the total measured radio flux density.\n",
    "\n",
    "    The average brightness temperature (T_b) provides a single representative temperature\n",
    "    value derived from the total flux density and the Moon's apparent solid angle in the sky.\n",
    "\n",
    "    Parameters:\n",
    "    -----------\n",
    "    total_flux_density : float\n",
    "        The total radio flux density emitted by the lunar disc (W/m²/Hz).\n",
    "\n",
    "    wavelength : float\n",
    "        Wavelength of the observed radio emission (meters).\n",
    "\n",
    "    solid_angle_moon : float\n",
    "        Total solid angle (steradians) subtended by the lunar disc as seen from Earth.\n",
    "        Typically Ω₀ ≈ 6.4236 × 10⁻⁵ sr at mean Earth-Moon distance (~384,400 km).\n",
    "\n",
    "    Returns:\n",
    "    --------\n",
    "    average_brightness_temp : float\n",
    "        Average brightness temperature (Kelvin) of the lunar disc.\n",
    "\n",
    "    Formula:\n",
    "    --------\n",
    "    T_b = S lambda^2/{2 k_B Omega_0\n",
    "\n",
    "    where:\n",
    "    - S is the total flux density (W·m⁻²·Hz⁻¹),\n",
    "    - λ is the wavelength (m),\n",
    "    - k_B ≈ 1.380649 × 10⁻²³ J/K is Boltzmann's constant,\n",
    "    - Ω₀ is the solid angle subtended by the Moon (steradians).\n",
    "\n",
    "    Reference:\n",
    "    ----------\n",
    "    - NRAO Radio Astronomy Basics: [Link](https://science.nrao.edu/opportunities/courses/ERA/radioastronomybasics.pdf)\n",
    "    \"\"\"\n",
    "    \n",
    "    # Calculate average brightness temperature (Kelvin)\n",
    "    average_brightness_temp = (total_flux_density * wavelength**2) / (2 * k_B * solid_angle_moon)\n",
    "\n",
    "    return average_brightness_temp"
   ]
  },
  {
   "cell_type": "code",
   "execution_count": 143,
   "id": "fd8bf8c0-8787-4a48-b5d5-11168d6a0373",
   "metadata": {},
   "outputs": [
    {
     "data": {
      "text/plain": [
       "np.float64(225.58271589479935)"
      ]
     },
     "execution_count": 143,
     "metadata": {},
     "output_type": "execute_result"
    }
   ],
   "source": [
    "avg_brightness_temperature_arr = average_radio_brightness_temperature(total_flux_density_arr, wavelength, solid_angle_moon)\n",
    "avg_brightness_temperature_arr"
   ]
  },
  {
   "cell_type": "markdown",
   "id": "dbf95223-c664-4a9b-acad-08182bd22f0e",
   "metadata": {},
   "source": [
    "### Kens moon_temp_model"
   ]
  },
  {
   "cell_type": "code",
   "execution_count": null,
   "id": "aad2b61b-6206-4d15-aec8-c3993ba47b98",
   "metadata": {},
   "outputs": [],
   "source": [
    "import numpy as np\n",
    "\n",
    "# Model Constants\n",
    "DELTA_PHASE = 0.05                # Phase increment in degrees\n",
    "LUNATION_COUNT = 16               # Number of lunations\n",
    "LUNATION_SECONDS = ((29 * 24 + 12) * 60 + 44) * 60\n",
    "\n",
    "# File setup for output\n",
    "fname = \"moontemp_phaseloop.csv\"\n",
    "\n",
    "# Physical Constants\n",
    "PI = np.pi\n",
    "SIGMA = 5.67e-8                # Stefan-Boltzmann Constant (W/m^2K^4)\n",
    "BAS_COND = 1.50e3              # Basalt conductivity (W.m-3.K-1)\n",
    "BAS_CAP = 670.0                # Basalt thermal capacity (J Kg-1.K-1)  \n",
    "RHO = 1500.0                   # Lunar regolith density (Kg.m-3)\n",
    "ALBEDO = 0.15                  # Lunar albedo (dimensionless)\n",
    "SOLAR_CONSTANT = 1365.0        # Solar irradiance (W/m^2)\n",
    "T_MEAN = 225.0                 # Mean lunar soil temperature in Kelvins\n",
    "RF_ABSORPTION_COEFF = 1        # RF Transmission Coefficient\n",
    "\n",
    "# Model Parameters\n",
    "A = 1.0                        # Surface area of element (square meters)\n",
    "DELTA_Z = 0.01                 # Thickness of element (meters)\n",
    "MASS_ELEMENT = A * DELTA_Z * RHO  # Mass of element (kg)\n",
    "\n",
    "# Derived constants\n",
    "I0 = (1 - ALBEDO) * SOLAR_CONSTANT  # Solar energy absorbed by lunar surface\n",
    "BETA = BAS_COND * A / DELTA_Z       # Conductivity parameter\n",
    "GAMMA = BAS_CAP * MASS_ELEMENT      # Thermal capacity parameter\n",
    "ALPHA = np.exp(-RF_ABSORPTION_COEFF * DELTA_Z)  # RF Transmission Coefficient\n",
    "\n",
    "def calculate_zenith_angle(phase):\n",
    "    \"\"\"Calculate the zenith angle of the sun based on the phase.\"\"\"\n",
    "    zenith_angle = abs(phase - 180)\n",
    "    return zenith_angle\n",
    "\n",
    "def calculate_solar_irradiance(phase):\n",
    "    \"\"\"Calculate solar irradiance at the surface based on phase.\"\"\"\n",
    "    zenith_angle = calculate_zenith_angle(phase)\n",
    "    if zenith_angle > 90:\n",
    "        return 0\n",
    "    irradiance = I0 * np.cos(np.radians(zenith_angle))\n",
    "    return irradiance\n",
    "\n",
    "def update_temperature_intermediate_layers(LTK, irradiance, delta_t):\n",
    "    \"\"\"Update the temperature of intermediate soil layers.\"\"\"\n",
    "    for j in range(29):\n",
    "        if j == 0:\n",
    "            # Surface layer with solar irradiance and radiation loss\n",
    "            LTK[j] += (A * (irradiance - SIGMA * LTK[j] ** 4) + (LTK[j + 1] - LTK[j]) * BETA) * delta_t / GAMMA\n",
    "        else:\n",
    "            # Intermediate layers with only conduction\n",
    "            LTK[j] += ((LTK[j + 1] - LTK[j]) * BETA + (LTK[j - 1] - LTK[j]) * BETA) * delta_t / GAMMA\n",
    "    return LTK\n",
    "\n",
    "def calculate_radio_brightness_temperature(LTK):\n",
    "    \"\"\"Calculate the radio brightness temperature based on the soil temperature profile.\"\"\"\n",
    "    Tb = T_MEAN  # Initial brightness temperature\n",
    "    for k in range(29, -1, -1):\n",
    "        Tb = ALPHA * Tb + (1 - ALPHA) * LTK[k]\n",
    "    LTK[30] = Tb\n",
    "    return LTK\n",
    "\n",
    "def soilstack(LTK, phase, delta_phase):\n",
    "    \"\"\"Simulate the lunar soil temperature and update brightness temperature.\"\"\"\n",
    "    delta_t = delta_phase * LUNATION_SECONDS / 360\n",
    "    irradiance = calculate_solar_irradiance(phase)\n",
    "    LTK = update_temperature_intermediate_layers(LTK, irradiance, delta_t)\n",
    "    LTK = calculate_radio_brightness_temperature(LTK)\n",
    "    return LTK\n",
    "\n",
    "# Initialize soil temperatures to T_mean (30 soil temperatures, LTK[0] to LTK[29])\n",
    "LTK = [T_MEAN] * 31\n",
    "\n",
    "# Run the lunation and phase loop and write results to a CSV file\n",
    "with open(fname, 'w') as opfile:\n",
    "    for lunation in range(LUNATION_COUNT):\n",
    "        phase = 0.0\n",
    "        while phase <= 360:\n",
    "            # Run temperature update for each phase step\n",
    "            print(f\"Running soilstack for lunation {lunation}, phase {phase} degrees\")\n",
    "            LTK = soilstack(LTK, phase, DELTA_PHASE)\n",
    "            phase += DELTA_PHASE\n",
    "\n",
    "            # Format temperature values for output\n",
    "            temp_values = [f\"{0.1 * int(10 * temp):.1f}\" for temp in LTK]\n",
    "            opstring = f\"{lunation}, {phase:.1f}, \" + \", \".join(temp_values)\n",
    "\n",
    "            # Only output if lunation > 14\n",
    "            if lunation > 14:\n",
    "                print(opstring)\n",
    "                opfile.write(opstring + \"\\n\")\n",
    "\n",
    "print(\"Simulation complete\")\n"
   ]
  }
 ],
 "metadata": {
  "kernelspec": {
   "display_name": "Python 3 (ipykernel)",
   "language": "python",
   "name": "python3"
  },
  "language_info": {
   "codemirror_mode": {
    "name": "ipython",
    "version": 3
   },
   "file_extension": ".py",
   "mimetype": "text/x-python",
   "name": "python",
   "nbconvert_exporter": "python",
   "pygments_lexer": "ipython3",
   "version": "3.12.9"
  }
 },
 "nbformat": 4,
 "nbformat_minor": 5
}
